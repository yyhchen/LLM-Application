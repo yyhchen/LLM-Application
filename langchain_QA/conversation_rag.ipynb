{
 "cells": [
  {
   "cell_type": "markdown",
   "metadata": {},
   "source": [
    "# 对话式 RAG\n",
    "\n",
    "[官方教程](http://www.aidoczh.com/langchain/v0.2/docs/tutorials/qa_chat_history/)"
   ]
  },
  {
   "cell_type": "code",
   "execution_count": 1,
   "metadata": {},
   "outputs": [],
   "source": [
    "import bs4\n",
    "from langchain import hub\n",
    "from langchain.chains import create_retrieval_chain\n",
    "from langchain.chains.combine_documents import create_stuff_documents_chain     # ？\n",
    "from langchain_chroma import Chroma\n",
    "from langchain_community.document_loaders import DirectoryLoader\n",
    "from langchain_core.output_parsers import StrOutputParser                       # ？\n",
    "from langchain_core.prompts import ChatPromptTemplate\n",
    "from langchain_core.runnables import RunnablePassthrough                        # ？\n",
    "from langchain.embeddings import HuggingFaceBgeEmbeddings\n",
    "from langchain_text_splitters import RecursiveCharacterTextSplitter\n",
    "from langchain_openai import OpenAI\n",
    "\n",
    "# llm = OpenAI(\n",
    "#     base_url = 'http://localhost:8000/v1',\n",
    "#     api_key = 'token-qwen2',\n",
    "#     model = 'Qwen2'\n",
    "# )\n",
    "\n",
    "from langchain_openai import ChatOpenAI\n",
    "llm = ChatOpenAI(\n",
    "    temperature=0.95,\n",
    "    model=\"glm-4-airx\",\n",
    "    openai_api_key=\"\",    # 加入 API-KEY\n",
    "    openai_api_base=\"https://open.bigmodel.cn/api/paas/v4/\"\n",
    ")"
   ]
  },
  {
   "cell_type": "markdown",
   "metadata": {},
   "source": [
    "## Step1. 构造 链"
   ]
  },
  {
   "cell_type": "code",
   "execution_count": 2,
   "metadata": {},
   "outputs": [
    {
     "name": "stderr",
     "output_type": "stream",
     "text": [
      "/home/yhchen/anaconda3/envs/langchain_env/lib/python3.10/site-packages/sentence_transformers/cross_encoder/CrossEncoder.py:11: TqdmExperimentalWarning: Using `tqdm.autonotebook.tqdm` in notebook mode. Use `tqdm.tqdm` instead to force console mode (e.g. in jupyter console)\n",
      "  from tqdm.autonotebook import tqdm, trange\n"
     ]
    },
    {
     "data": {
      "text/plain": [
       "[Document(metadata={'source': 'data/tencent2.txt'}, page_content='公共数据、基础设施与人工智能：数据市场发展的三个驱动力 | 数据要素行业洞察（四）\\n\\n王星 腾讯研究院资深专家\\n\\n根据《数据要素赋能新质生产力》研究报告、中国国际经济交流中心“数据要素推动数字经济高质量发展”专家座谈会发言内容等整理。\\n\\n二十届三中全会从数据基础设施建设、数据生产关系调整、数据宏观治理优化等维度介绍了数据要素市场的发展导向和政策布局。回顾和总结国内外的发展经验，对于我们准确认识数据要素的发展规律，特别是探索数据要素如何进入社会化大生产、如何安全可控的释放乘数效应价值具有重要借鉴。\\n\\n“数据二十条”发布近两年来，在政策支持和市场主体的积极参与下，国内数据要素市场呈现出多层次发展和技术驱动的显著特征。对比国外数据市场发展规律，可以看到，以公共数据开放共享为牵引、数据基础设施建设为支撑、人工智能为驱动越来越成为数据要素市场发展的产业共识和重要模式。\\n\\n一、国外四种典型的数据市场发展模式\\n\\n1.美国模式：推动政府数据开发利用，鼓励市场主体开展数据应用创新\\n\\n美国在数据市场构建方面一直处于全球领先位置，率先提出“政府数据开放战略”，以数据驱动政府决策治理能力提升为牵引，大力推动各政府部门探索符合自身特色的数据开发利用场景，改善政府管理数据方式、提高服务社会效能。当前，美国建立了“政府引导、企业参与、市场运作”的数据应用市场，数据要素应用场景发展十分丰富，涵盖消费、农业、医疗、教育、政府管理等多个领域。例如，政府治理领域，美国总务管理局在政府所属基础设施中安装物联网传感器，由美国国家航空航天局利用人工智能技术分析卫星收集的数据，实现智慧建筑管理。Follow My Vote公司开发基于区块链的在线投票平台，采用加密技术保证选举结果的准确性和可靠性。农业领域，纽瓦克垂直农场通过对作物生长环境和长势进行监测，利用大数据技术实现智能决策，相比传统农场节水95%、减肥50%，实现农药零投入。金融领域，华尔街“德温特资本市场”公司通过分析3.4亿账户留言，判断民众情绪，并依据人们高兴时买股票、焦虑时抛售股票的规律，决定公司买卖股票的时机，从而获取盈利。能源领域，提出绿色按钮倡议，使客户能够轻松安全访问用水、电力和天然气等能源使用数据，提高能源消耗意识，并帮助消费者节省能源消耗。'),\n",
       " Document(metadata={'source': 'data/tencent2.txt'}, page_content='此外，加大资金布局数字基础设施，为数据要素创新应用发展提供技术支撑。投资共同欧洲数据空间和互联云基础设施，围绕公共数据集、数据中心、开放平台、算力中心等基础设施构建强大的数据生态系统。据统计，欧洲在29个国家/地区拥有约217个经过认证的数据中心。\\n\\n最后，提高国际交流门槛，提升数据全球流通话语权和影响力。通过构建高门槛高标准的数据跨境传输规则，持续向其他非欧盟国家输出欧盟模式，深刻影响国际数据流动规则的形成。一是已吸引世界主要经济体加入欧盟的《通用数据保护条例》充分性认定。二是迫使美国等全球主要数字经济体在个人数据保护方面作出妥协。三是已成为全球数据区域合作的参考范本。\\n\\n3.日本模式：倡导可信数据自由流动，高度重视公共数据集建设\\n\\n在数据市场建设中，日本倡导“政府指导、民间主导”的发展模式，加快社会数字化转型，推进数据跨境流通。倡导可信数据自由流动，推进数据跨境流通，推动日本成为全球重要数据流通中心。日本在国际上倡导可信数据自由流动，即在严格保护个人信息、网络安全和知识产权的基础上，推动工业、健康等领域非个人、匿名、有用信息的自由流动。2019\\u2006年\\u20062\\u2006月，日本与欧盟达成《欧盟日本数据共享协议》，这一对等充分性协议创造了全球最大的数据自由流通区域，极大地促进了日本大数据和人工智能产业的快速发展，吸引大量海外IT巨头与日本开展数据交换。日本数据中心市场规模快速增长，以东京都市圈为例，数据中心建设集聚，已成为Meta和谷歌等美国IT巨头实现数据流动的中转站。太平洋海底光缆铺设投资旺盛，预计经由日本的数据通信将更趋活跃。\\n\\n日本广泛推动政府数据开放，促进公共数据的社会应用，助力企业创新发展。日本政府计划使作为最大数据持有者的行政机构本身成为全国最大的平台，让公共数据充分流动。在国民经济、司法安全、人口环境等17个领域开放了公共数据集。除此之外，还设立了多级政府数据公开网站，并针对专业领域设立特色数据开放网站。庞大的开放数据集在应急管理、环境卫生、农业生产管理等领域均实现了有效利用。如会津若松市基于政府公开的消防水利位置信息推出消防栓地图web应用，有效帮助消防员及普通市民在遭遇火情时可以迅速反应。water\\n\\ncell公司设计的agri\\n\\nnote应用可以整合农林水产省、农林水产消费安全中心发布的农药和肥料数据，助力农业经营者提高农业生产管理效率。'),\n",
       " Document(metadata={'source': 'data/tencent2.txt'}, page_content='在有效市场、有为政府的共同作用下，我国数据要素形成了多层次发展的市场格局：一是场内交易市场，数据价值实现遵循资源化、资产化、资本化的发展链路。二是数字化转型的市场，数据价值实现取决于行业和企业数字化、网络化、智能化（包括人工智能化）的进化速度，以及市场主体对于投资回报率（ROI）的评价。三是数据原生企业构成的市场，数据价值实现过程呈现出业务数字化、数字产品化和服务化的特征。三类市场运行的动力机制、价格形成机制均有较大差异，且彼此支撑、协同发展，共同对数据要素市场形成有力支撑。'),\n",
       " Document(metadata={'source': 'data/tencent2.txt'}, page_content='在数据的共享、交换、交易等各种应用活动中，数据经纪商在其中发挥了一定作用。其并不直接从用户方收集个人数据，而是通过政府、商业以及其他公开数据来源获取，并将原始信息和衍生信息进行整理、分析和共享后，将这些信息出售、许可、交易或提供给与消费者无直接关系的企业，用于产品营销、个人身份验证或欺诈行为检测等。目前美国约有3500\\n\\n4000家数据经纪公司，主要提供市场营销、风险控制以及人员搜索等服务。例如，专业的地理信息数据经纪商Factual，其平台上已累积横跨200多个国家的超过１亿个地理位置信息，数据更新频次达每月240万次，数据访问频次达每月90亿次。\\n\\n2.欧盟模式：深化数据空间战略，加快布局一体化数据开发利用基础设施\\n\\n欧盟历来重视数据保护，尤其对个人数据的保护。通过制定严格的法律法规，欧盟在全球数据治理中的话语权显著提升，且逐渐形成了“严格个人信息保护、建立共同数据空间”等数据要素市场化方式和路径。建立“共同数据空间”，创新数据跨领域共享交换工具。欧盟通过《欧洲数据战略》确立了欧盟范围内数据安全开放共享战略，打造了数据要素共享交换的“共同数据空间”平台，涵盖金融、农业、交通、能源、健康等十个领域，推动欧盟内部数据流通和开发利用。加强个人信息保护，形成完整的数据权益法律法规体系。此外，还相继颁布《通用数据保护条例》《数据法案》《数字服务法案》《非个人数据自由流动条例》《数据治理法案》《关于公平获取和使用数据的统一规则提案》《数字市场法案》等数据保护法规，尝试设定严苛的数据要素场景准入门槛。不断扩大公共数据供应规模，提高公共数据共享程度。为推动公共数据开放利用，欧盟早在2003年就颁布《公共部门信息再利用指令》，随后经两次修订，公共数据开放范围进一步扩大，涵盖金融、气象、法律等多个领域。提出数据利他倡议，鼓励居民自愿贡献数据。为促进数据交易共享，创设数据中介制度，由数据中介服务提供者促成交易双方的数据共享，提升交易主体互信程度。\\n\\n此外，加大资金布局数字基础设施，为数据要素创新应用发展提供技术支撑。投资共同欧洲数据空间和互联云基础设施，围绕公共数据集、数据中心、开放平台、算力中心等基础设施构建强大的数据生态系统。据统计，欧洲在29个国家/地区拥有约217个经过认证的数据中心。')]"
      ]
     },
     "execution_count": 2,
     "metadata": {},
     "output_type": "execute_result"
    }
   ],
   "source": [
    "data_path = './data'\n",
    "loader = DirectoryLoader(data_path, glob=\"tencent2.txt\")\n",
    "docs = loader.load()\n",
    "\n",
    "text_splitter = RecursiveCharacterTextSplitter(chunk_size=1000, chunk_overlap=200)\n",
    "splits = text_splitter.split_documents(docs)\n",
    "\n",
    "embed_model_path = '/home/yhchen/huggingface_model/BAAI/bge-m3'\n",
    "BgeEmbeddings = HuggingFaceBgeEmbeddings(model_name=embed_model_path)\n",
    "\n",
    "vectordb = Chroma.from_documents(documents=splits, embedding=BgeEmbeddings)\n",
    "\n",
    "retriever = vectordb.as_retriever()\n",
    "result = retriever.invoke(\"美国模式中，政府数据开放战略如何具体推动数据市场的发展？\")\n",
    "result"
   ]
  },
  {
   "cell_type": "markdown",
   "metadata": {},
   "source": [
    "#### 核心：`create_stuff_documents_chain` 将文档传递给模型"
   ]
  },
  {
   "cell_type": "code",
   "execution_count": 3,
   "metadata": {},
   "outputs": [],
   "source": [
    "system_prompt = (\n",
    "    \"您是一个用于问答任务的助手。\"\n",
    "    \"使用以下检索到的上下文片段来回答问题。\"\n",
    "    \"如果您不知道答案，请说您不知道。\"\n",
    "    \"最多使用三句话，保持回答简洁。\"\n",
    "    \"\\n\\n\"\n",
    "    \"{context}\"\n",
    ")\n",
    "\n",
    "prompt = ChatPromptTemplate.from_messages(\n",
    "    [\n",
    "        (\"system\", system_prompt),\n",
    "        (\"human\", \"{input}\")\n",
    "    ]\n",
    ")\n",
    "\n",
    "# Create a chain for passing a list of Documents to a model.（need `context` key dict as input）\n",
    "question_answer_chain = create_stuff_documents_chain(llm=llm, prompt=prompt)\n",
    "\n",
    "# 构建 retriever chain 需要两个参数， 一个是 retriever， 一个是 combine_docs_chain\n",
    "rag_chain = create_retrieval_chain(\n",
    "    retriever=retriever,\n",
    "    combine_docs_chain=question_answer_chain,\n",
    ")"
   ]
  },
  {
   "cell_type": "code",
   "execution_count": 4,
   "metadata": {},
   "outputs": [
    {
     "data": {
      "text/plain": [
       "{'input': '什么是美国模型？',\n",
       " 'context': [Document(metadata={'source': 'data/tencent2.txt'}, page_content='公共数据、基础设施与人工智能：数据市场发展的三个驱动力 | 数据要素行业洞察（四）\\n\\n王星 腾讯研究院资深专家\\n\\n根据《数据要素赋能新质生产力》研究报告、中国国际经济交流中心“数据要素推动数字经济高质量发展”专家座谈会发言内容等整理。\\n\\n二十届三中全会从数据基础设施建设、数据生产关系调整、数据宏观治理优化等维度介绍了数据要素市场的发展导向和政策布局。回顾和总结国内外的发展经验，对于我们准确认识数据要素的发展规律，特别是探索数据要素如何进入社会化大生产、如何安全可控的释放乘数效应价值具有重要借鉴。\\n\\n“数据二十条”发布近两年来，在政策支持和市场主体的积极参与下，国内数据要素市场呈现出多层次发展和技术驱动的显著特征。对比国外数据市场发展规律，可以看到，以公共数据开放共享为牵引、数据基础设施建设为支撑、人工智能为驱动越来越成为数据要素市场发展的产业共识和重要模式。\\n\\n一、国外四种典型的数据市场发展模式\\n\\n1.美国模式：推动政府数据开发利用，鼓励市场主体开展数据应用创新\\n\\n美国在数据市场构建方面一直处于全球领先位置，率先提出“政府数据开放战略”，以数据驱动政府决策治理能力提升为牵引，大力推动各政府部门探索符合自身特色的数据开发利用场景，改善政府管理数据方式、提高服务社会效能。当前，美国建立了“政府引导、企业参与、市场运作”的数据应用市场，数据要素应用场景发展十分丰富，涵盖消费、农业、医疗、教育、政府管理等多个领域。例如，政府治理领域，美国总务管理局在政府所属基础设施中安装物联网传感器，由美国国家航空航天局利用人工智能技术分析卫星收集的数据，实现智慧建筑管理。Follow My Vote公司开发基于区块链的在线投票平台，采用加密技术保证选举结果的准确性和可靠性。农业领域，纽瓦克垂直农场通过对作物生长环境和长势进行监测，利用大数据技术实现智能决策，相比传统农场节水95%、减肥50%，实现农药零投入。金融领域，华尔街“德温特资本市场”公司通过分析3.4亿账户留言，判断民众情绪，并依据人们高兴时买股票、焦虑时抛售股票的规律，决定公司买卖股票的时机，从而获取盈利。能源领域，提出绿色按钮倡议，使客户能够轻松安全访问用水、电力和天然气等能源使用数据，提高能源消耗意识，并帮助消费者节省能源消耗。'),\n",
       "  Document(metadata={'source': 'data/tencent2.txt'}, page_content='人工智能是发展新质生产力的重要引擎，已成为引领新一轮科技革命和产业变革的重要驱动力。以ChatGPT等为代表的AIGC（生成式人工智能）技术应用火遍全球，大模型技术取得创新突破引发人工智能技术深刻的变革，并加速向多行业渗透。\\n\\n一是人工智能大模型场景应用和产业发展迅速。2023年以来，多地积极推动相关技术和产业并取得快速进展。如《上海市推动人工智能大模型创新发展若干措施（2023\\n\\n2025年）》重点支持在智能制造、生物医药、集成电路、智能化教育教学、科技金融、设计创意、自动驾驶、机器人、数字政府等领域构建示范应用场景。《北京市促进通用人工智能创新发展的若干措施》推动通用人工智能技术在政务、医疗、科学研究、金融、自动驾驶、城市治理等创新场景应用。截至2023年底，我国人工智能核心产业规模近5800亿元，已经形成京津冀、长三角、珠三角三大集聚发展区，核心企业数量超过4400家，居全球第二。目前，国内参数规模超10亿的大模型已经超过100个，主要集中在通用领域，涵盖自然语言处理、计算机视觉和语音识别等技术领域。'),\n",
       "  Document(metadata={'source': 'data/tencent2.txt'}, page_content='二是人工智能大模型引发产业效率革命。通过结合多模态数据和智能算法，大模型赋能工业、交通、商贸、医疗、能源、交通、金融等众多行业向数据驱动模式转型，助力行业提质增效。工业领域，大模型可以作为智能质量控制器，根据生产数据和标准，自动检测和纠正产品质量问题。比如，腾讯软硬一体AI外观质检解决方案服务了众多制造企业的外观检测项目，不仅检测能力全面超越人工水平，而且检测效率相较人工质检提升10倍，每年能为客户节省人力成本数千万元。交通领域，大模型实现准确预测交通拥堵，推动智能交通管理。比如，商汤日日新大模型体系已为郑州、哈尔滨等地城轨30条线路、640个车站提供智能化升级。商贸领域，大模型通过分析预测消费行为、市场竞争态势等，实现对客户的精准营销、优化库存管理和供应链。比如，京东言犀人工智能平台推动采购自动化率至85%，库存周转降至31.2天。医疗领域，大模型可用于辅助疾病诊断和预测，并提高医疗信息化效率、改善在线问诊、实时监测预警和提升药物研发效率。比如，云知声山海大模型助力北京友谊医院实现门诊病历生成系统。金融领域，“RPA+AI”（Robotic process automation，机器人流程自动化）技术应用不断深入，实现数据的自动抓取、清洗和更新，加快了小微金融信贷服务业务场景的拓展。\\n\\n3.可信流通：合规监管和安全可信技术加速落地\\n\\n随着数据与生产、分配、流通、消费和社会服务管理等各个环节的快速融合，数据安全的重要性日益凸显。近年来，我国强化数据安全技术支撑能力和专业服务体系，助力数据供给、流通、使用全过程安全保障，为数据要素产业化应用提供重要前提。'),\n",
       "  Document(metadata={'source': 'data/tencent2.txt'}, page_content='在有效市场、有为政府的共同作用下，我国数据要素形成了多层次发展的市场格局：一是场内交易市场，数据价值实现遵循资源化、资产化、资本化的发展链路。二是数字化转型的市场，数据价值实现取决于行业和企业数字化、网络化、智能化（包括人工智能化）的进化速度，以及市场主体对于投资回报率（ROI）的评价。三是数据原生企业构成的市场，数据价值实现过程呈现出业务数字化、数字产品化和服务化的特征。三类市场运行的动力机制、价格形成机制均有较大差异，且彼此支撑、协同发展，共同对数据要素市场形成有力支撑。')],\n",
       " 'answer': '美国模型是指美国在数据市场构建方面的一种发展模式，其主要特点为推动政府数据开发利用，鼓励市场主体开展数据应用创新。美国率先提出“政府数据开放战略”，通过数据驱动政府决策治理能力提升，建立了“政府引导、企业参与、市场运作”的数据应用市场。'}"
      ]
     },
     "execution_count": 4,
     "metadata": {},
     "output_type": "execute_result"
    }
   ],
   "source": [
    "response = rag_chain.invoke({\"input\": \"什么是美国模型？\"})\n",
    "response"
   ]
  },
  {
   "cell_type": "markdown",
   "metadata": {},
   "source": [
    "## Step2. 添加聊天历史\n",
    "\n",
    "上面的操作是: `query` --> `retriever`;\n",
    "\n",
    "加入 conversation_history ，则: `(query, conversation_history)` --> `LLM` --> `rephrased query` --> `retriever`\n",
    "\n",
    "\n",
    "即:\n",
    "\n",
    "中间多了 `LLM` 处理环节，以及根据 `conversation_history` 重新通过 `LLM` 生成 `new query`, 再通过 `retriever` 获取答案\n",
    "\n",
    "<br>\n",
    "\n",
    "---\n",
    "\n",
    "`create_history_aware_retriever`\n",
    "\n",
    ">如果没有chat_history ，则输入将直接传递给检索器。如果有chat_history ，则提示和LLM将用于生成搜索查询。然后将该搜索查询传递给检索器。"
   ]
  },
  {
   "cell_type": "code",
   "execution_count": 4,
   "metadata": {},
   "outputs": [],
   "source": [
    "\"\"\"\n",
    "    这一步是为了构建 `history_aware_retriever`\n",
    "\n",
    "    这是一个具有 历史聊天内容 感知 的检索器变量(retriever)\n",
    "\"\"\"\n",
    "\n",
    "from langchain.chains import create_history_aware_retriever     # 用于管理 `chat_history` 为空的情况\n",
    "from langchain_core.prompts import MessagesPlaceholder\n",
    "\n",
    "contextualize_q_system_prompt = (\n",
    "    \"给定聊天历史和最新的用户问题，\"\n",
    "    \"该问题可能引用聊天历史中的上下文，\"\n",
    "    \"重新构造一个可以在没有聊天历史的情况下理解的独立问题。\"\n",
    "    \"如果需要，不要回答问题，只需重新构造问题并返回。\"\n",
    ")\n",
    "\n",
    "contextualize_q_prompt = ChatPromptTemplate.from_messages(\n",
    "    [\n",
    "        (\"system\", contextualize_q_system_prompt),\n",
    "        MessagesPlaceholder(\"chat_history\"),\n",
    "        (\"human\", \"{input}\")\n",
    "    ]\n",
    ")\n",
    "\n",
    "# LLM + (prompt + chat_history) == new hidden query (此步骤不可见)\n",
    "history_aware_retriever = create_history_aware_retriever(\n",
    "    llm=llm,\n",
    "    retriever=retriever,    # retriever = vectordb.as_retriever()\n",
    "    prompt=contextualize_q_prompt,  # 加入 chat_history 的 new prompt\n",
    ")"
   ]
  },
  {
   "cell_type": "markdown",
   "metadata": {},
   "source": [
    "### 核心：将 `history_aware_retriever` 集成到 普通的 `retriever_chain` 中"
   ]
  },
  {
   "cell_type": "code",
   "execution_count": 5,
   "metadata": {},
   "outputs": [],
   "source": [
    "\"\"\"\n",
    "    普通的 retriever_chain + history_aware_retriever\n",
    "\n",
    "    即，\n",
    "\n",
    "    通过普通的 retriever_chain + history_aware_retriever 构建具有历史感知的 chain, 以实现具有历史对话的 RAG\n",
    "\"\"\"\n",
    "\n",
    "from langchain.chains import create_retrieval_chain\n",
    "from langchain.chains.combine_documents import create_stuff_documents_chain\n",
    "qa_prompt = ChatPromptTemplate.from_messages(\n",
    "    [\n",
    "        (\"system\", system_prompt),\n",
    "        MessagesPlaceholder(\"chat_history\"),\n",
    "        (\"human\", \"{input}\"),\n",
    "    ]\n",
    ")\n",
    "question_answer_chain = create_stuff_documents_chain(llm, qa_prompt)\n",
    "\n",
    "# 构建 retriever chain 需要两个参数， 一个是 retriever， 一个是 combine_docs_chain\n",
    "rag_chain = create_retrieval_chain(\n",
    "    retriever=history_aware_retriever, \n",
    "    combine_docs_chain=question_answer_chain,\n",
    "    )"
   ]
  },
  {
   "cell_type": "code",
   "execution_count": 6,
   "metadata": {},
   "outputs": [
    {
     "name": "stdout",
     "output_type": "stream",
     "text": [
      "在美国模式中，政府数据开放战略通过开放政府数据，鼓励企业和创新者利用这些数据进行应用创新，从而推动数据市场的发展。例如，美国政府推动各政府部门探索特色的数据开发利用场景，改善数据管理方式，提高服务效能，进而促进了数据要素的应用场景多样化，推动了数据市场的繁荣。\n"
     ]
    }
   ],
   "source": [
    "from langchain_core.messages import AIMessage, HumanMessage\n",
    "\n",
    "chat_history = []\n",
    "question = \"什么是美国模式？\"\n",
    "ai_msg_1 = rag_chain.invoke({\"input\": question, \"chat_history\": chat_history})\n",
    "chat_history.extend(\n",
    "    [\n",
    "        HumanMessage(content=question),\n",
    "        AIMessage(content=ai_msg_1['answer']),\n",
    "    ]\n",
    ")\n",
    "\n",
    "second_question = \"那在这个模式中，政府数据开放战略如何具体推动数据市场的发展？\"\n",
    "ai_msg_2 = rag_chain.invoke({\"input\": second_question, \"chat_history\": chat_history})\n",
    "\n",
    "print(ai_msg_2['answer'])"
   ]
  },
  {
   "cell_type": "code",
   "execution_count": 7,
   "metadata": {},
   "outputs": [
    {
     "name": "stdout",
     "output_type": "stream",
     "text": [
      "[HumanMessage(content='什么是美国模式？'), AIMessage(content='美国模式是推动政府数据开发利用，鼓励市场主体开展数据应用创新。通过“政府引导、企业参与、市场运作”的方式，发展数据应用市场，实现数据要素应用场景的丰富化，涵盖多个领域如消费、农业、医疗等。')]\n"
     ]
    }
   ],
   "source": [
    "print(chat_history)"
   ]
  },
  {
   "cell_type": "code",
   "execution_count": 9,
   "metadata": {},
   "outputs": [
    {
     "data": {
      "text/plain": [
       "[HumanMessage(content='什么是美国模式？'),\n",
       " AIMessage(content='美国模式是指在数据市场构建方面，推动政府数据开发利用，鼓励市场主体开展数据应用创新。美国率先提出“政府数据开放战略”，以数据驱动政府决策治理能力提升为牵引，大力推动各政府部门探索符合自身特色的数据开发利用场景，建立“政府引导、企业参与、市场运作”的数据应用市场。'),\n",
       " HumanMessage(content='那在这个模式中，政府数据开放战略如何具体推动数据市场的发展？'),\n",
       " AIMessage(content='在这个模式中，政府数据开放战略通过以下方式具体推动数据市场的发展：1. 政府部门开放数据，为市场主体提供丰富的数据资源；2. 鼓励市场主体利用这些开放的数据进行应用创新，促进新服务的开发和现有服务的优化；3. 通过数据驱动提升政府决策治理能力，从而改善政府管理数据方式和提高服务社会效能，为数据市场创造更多需求和应用场景。')]"
      ]
     },
     "execution_count": 9,
     "metadata": {},
     "output_type": "execute_result"
    }
   ],
   "source": [
    "chat_history.extend(\n",
    "    [\n",
    "        HumanMessage(content=second_question),\n",
    "        AIMessage(content=ai_msg_2['answer']),\n",
    "    ]\n",
    ")\n",
    "\n",
    "chat_history"
   ]
  },
  {
   "cell_type": "code",
   "execution_count": null,
   "metadata": {},
   "outputs": [],
   "source": [
    "?create_retrieval_chain"
   ]
  },
  {
   "cell_type": "markdown",
   "metadata": {},
   "source": [
    "### 添加历史对话进阶\n",
    "\n",
    "- 🧐 问题：\n",
    "前面虽然实现了历史对话，**但仍然是手动更新的**。 \n",
    "\n",
    "- ⛳️ 目标：\n",
    "持久化历史对话，实现自动更新历史对话。\n",
    "\n",
    "\n",
    "<br>\n",
    "\n",
    "\n",
    "#### 核心两个方法：\n",
    "- `BaseChatMessageHistory`: 存储对话历史 (持久化)\n",
    "\n",
    "- `RunnableWithMessageHistory`: 将历史对话注入 input 并在每次调用后更新它\n",
    "\n"
   ]
  },
  {
   "cell_type": "code",
   "execution_count": 8,
   "metadata": {},
   "outputs": [],
   "source": [
    "from langchain_community.chat_message_histories import ChatMessageHistory\n",
    "from langchain_core.chat_history import BaseChatMessageHistory      # 持久化历史对话\n",
    "from langchain_core.runnables.history import RunnableWithMessageHistory   # 将历史对话注入 input 并在每次调用后更新它\n",
    "\n",
    "store = {}\n",
    "\n",
    "def get_session_history(session_id: str) -> BaseChatMessageHistory:\n",
    "    if session_id not in store:\n",
    "        store[session_id] = ChatMessageHistory()\n",
    "    return store[session_id]\n",
    "\n",
    "conversational_rag_chain = RunnableWithMessageHistory(\n",
    "    runnable=rag_chain,\n",
    "    get_session_history=get_session_history,\n",
    "    input_messages_key=\"input\",\n",
    "    history_messages_key=\"chat_history\",\n",
    "    output_messages_key=\"answer\",\n",
    ")"
   ]
  },
  {
   "cell_type": "code",
   "execution_count": 9,
   "metadata": {},
   "outputs": [
    {
     "data": {
      "text/plain": [
       "'美国模式是指推动政府数据开发利用，鼓励市场主体开展数据应用创新的发展方式。美国率先提出“政府数据开放战略”，通过改善政府管理数据方式和提高服务社会效能，建立了“政府引导、企业参与、市场运作”的数据应用市场。'"
      ]
     },
     "execution_count": 9,
     "metadata": {},
     "output_type": "execute_result"
    }
   ],
   "source": [
    "conversational_rag_chain.invoke(\n",
    "    {\"input\": question},\n",
    "    config={\n",
    "        \"configurable\":{\"session_id\": \"1\"}\n",
    "    },\n",
    ")['answer']"
   ]
  },
  {
   "cell_type": "code",
   "execution_count": 11,
   "metadata": {},
   "outputs": [
    {
     "data": {
      "text/plain": [
       "'政府数据开放战略通过提供公共数据资源，牵引数据市场的发展，鼓励市场主体进行数据应用创新，并推动数据基础设施建设和人工智能技术的融合，形成技术支撑和驱动力。如美国模式所示，政府开放数据促进了各行业领域的数据应用场景丰富，提高了政府管理效率和公共服务能力，同时吸引了企业参与，形成了政府引导、企业参与、市场运作的数据应用市场。'"
      ]
     },
     "execution_count": 11,
     "metadata": {},
     "output_type": "execute_result"
    }
   ],
   "source": [
    "conversational_rag_chain.invoke(\n",
    "    {\"input\": second_question},\n",
    "    config={\n",
    "        \"configurable\":{\"session_id\": \"2\"}\n",
    "    }\n",
    ")['answer']"
   ]
  },
  {
   "cell_type": "code",
   "execution_count": 12,
   "metadata": {},
   "outputs": [
    {
     "data": {
      "text/plain": [
       "{'1': InMemoryChatMessageHistory(messages=[HumanMessage(content='什么是美国模式？'), AIMessage(content='美国模式是指推动政府数据开发利用，鼓励市场主体开展数据应用创新的发展方式。美国率先提出“政府数据开放战略”，通过改善政府管理数据方式和提高服务社会效能，建立了“政府引导、企业参与、市场运作”的数据应用市场。')]),\n",
       " '2': InMemoryChatMessageHistory(messages=[HumanMessage(content='那在这个模式中，政府数据开放战略如何具体推动数据市场的发展？'), AIMessage(content='政府数据开放战略通过提供公共数据资源，牵引数据市场的发展，鼓励市场主体进行数据应用创新，并推动数据基础设施建设和人工智能技术的融合，形成技术支撑和驱动力。如美国模式所示，政府开放数据促进了各行业领域的数据应用场景丰富，提高了政府管理效率和公共服务能力，同时吸引了企业参与，形成了政府引导、企业参与、市场运作的数据应用市场。')])}"
      ]
     },
     "execution_count": 12,
     "metadata": {},
     "output_type": "execute_result"
    }
   ],
   "source": [
    "# 查看历史对话\n",
    "store"
   ]
  },
  {
   "cell_type": "markdown",
   "metadata": {},
   "source": [
    "## Step3. Agent\n",
    "\n",
    "将前面构造的 `retriever` 转换为 langchain tools 供 agent 使用"
   ]
  },
  {
   "cell_type": "code",
   "execution_count": 15,
   "metadata": {},
   "outputs": [],
   "source": [
    "from langchain.tools.retriever import create_retriever_tool\n",
    "\n",
    "retriever_tool = create_retriever_tool(\n",
    "    retriever=retriever, # 比较一下 history_aware_retriever\n",
    "    name=\"tencent_post_retriever\",\n",
    "    description=\"基于腾讯研究院报告内容的检索工具\",\n",
    ")\n",
    "tools = [retriever_tool]"
   ]
  },
  {
   "cell_type": "code",
   "execution_count": 17,
   "metadata": {},
   "outputs": [
    {
     "data": {
      "text/plain": [
       "'公共数据、基础设施与人工智能：数据市场发展的三个驱动力 | 数据要素行业洞察（四）\\n\\n王星 腾讯研究院资深专家\\n\\n根据《数据要素赋能新质生产力》研究报告、中国国际经济交流中心“数据要素推动数字经济高质量发展”专家座谈会发言内容等整理。\\n\\n二十届三中全会从数据基础设施建设、数据生产关系调整、数据宏观治理优化等维度介绍了数据要素市场的发展导向和政策布局。回顾和总结国内外的发展经验，对于我们准确认识数据要素的发展规律，特别是探索数据要素如何进入社会化大生产、如何安全可控的释放乘数效应价值具有重要借鉴。\\n\\n“数据二十条”发布近两年来，在政策支持和市场主体的积极参与下，国内数据要素市场呈现出多层次发展和技术驱动的显著特征。对比国外数据市场发展规律，可以看到，以公共数据开放共享为牵引、数据基础设施建设为支撑、人工智能为驱动越来越成为数据要素市场发展的产业共识和重要模式。\\n\\n一、国外四种典型的数据市场发展模式\\n\\n1.美国模式：推动政府数据开发利用，鼓励市场主体开展数据应用创新\\n\\n美国在数据市场构建方面一直处于全球领先位置，率先提出“政府数据开放战略”，以数据驱动政府决策治理能力提升为牵引，大力推动各政府部门探索符合自身特色的数据开发利用场景，改善政府管理数据方式、提高服务社会效能。当前，美国建立了“政府引导、企业参与、市场运作”的数据应用市场，数据要素应用场景发展十分丰富，涵盖消费、农业、医疗、教育、政府管理等多个领域。例如，政府治理领域，美国总务管理局在政府所属基础设施中安装物联网传感器，由美国国家航空航天局利用人工智能技术分析卫星收集的数据，实现智慧建筑管理。Follow My Vote公司开发基于区块链的在线投票平台，采用加密技术保证选举结果的准确性和可靠性。农业领域，纽瓦克垂直农场通过对作物生长环境和长势进行监测，利用大数据技术实现智能决策，相比传统农场节水95%、减肥50%，实现农药零投入。金融领域，华尔街“德温特资本市场”公司通过分析3.4亿账户留言，判断民众情绪，并依据人们高兴时买股票、焦虑时抛售股票的规律，决定公司买卖股票的时机，从而获取盈利。能源领域，提出绿色按钮倡议，使客户能够轻松安全访问用水、电力和天然气等能源使用数据，提高能源消耗意识，并帮助消费者节省能源消耗。\\n\\n此外，加大资金布局数字基础设施，为数据要素创新应用发展提供技术支撑。投资共同欧洲数据空间和互联云基础设施，围绕公共数据集、数据中心、开放平台、算力中心等基础设施构建强大的数据生态系统。据统计，欧洲在29个国家/地区拥有约217个经过认证的数据中心。\\n\\n最后，提高国际交流门槛，提升数据全球流通话语权和影响力。通过构建高门槛高标准的数据跨境传输规则，持续向其他非欧盟国家输出欧盟模式，深刻影响国际数据流动规则的形成。一是已吸引世界主要经济体加入欧盟的《通用数据保护条例》充分性认定。二是迫使美国等全球主要数字经济体在个人数据保护方面作出妥协。三是已成为全球数据区域合作的参考范本。\\n\\n3.日本模式：倡导可信数据自由流动，高度重视公共数据集建设\\n\\n在数据市场建设中，日本倡导“政府指导、民间主导”的发展模式，加快社会数字化转型，推进数据跨境流通。倡导可信数据自由流动，推进数据跨境流通，推动日本成为全球重要数据流通中心。日本在国际上倡导可信数据自由流动，即在严格保护个人信息、网络安全和知识产权的基础上，推动工业、健康等领域非个人、匿名、有用信息的自由流动。2019\\u2006年\\u20062\\u2006月，日本与欧盟达成《欧盟日本数据共享协议》，这一对等充分性协议创造了全球最大的数据自由流通区域，极大地促进了日本大数据和人工智能产业的快速发展，吸引大量海外IT巨头与日本开展数据交换。日本数据中心市场规模快速增长，以东京都市圈为例，数据中心建设集聚，已成为Meta和谷歌等美国IT巨头实现数据流动的中转站。太平洋海底光缆铺设投资旺盛，预计经由日本的数据通信将更趋活跃。\\n\\n日本广泛推动政府数据开放，促进公共数据的社会应用，助力企业创新发展。日本政府计划使作为最大数据持有者的行政机构本身成为全国最大的平台，让公共数据充分流动。在国民经济、司法安全、人口环境等17个领域开放了公共数据集。除此之外，还设立了多级政府数据公开网站，并针对专业领域设立特色数据开放网站。庞大的开放数据集在应急管理、环境卫生、农业生产管理等领域均实现了有效利用。如会津若松市基于政府公开的消防水利位置信息推出消防栓地图web应用，有效帮助消防员及普通市民在遭遇火情时可以迅速反应。water\\n\\ncell公司设计的agri\\n\\nnote应用可以整合农林水产省、农林水产消费安全中心发布的农药和肥料数据，助力农业经营者提高农业生产管理效率。\\n\\n在数据的共享、交换、交易等各种应用活动中，数据经纪商在其中发挥了一定作用。其并不直接从用户方收集个人数据，而是通过政府、商业以及其他公开数据来源获取，并将原始信息和衍生信息进行整理、分析和共享后，将这些信息出售、许可、交易或提供给与消费者无直接关系的企业，用于产品营销、个人身份验证或欺诈行为检测等。目前美国约有3500\\n\\n4000家数据经纪公司，主要提供市场营销、风险控制以及人员搜索等服务。例如，专业的地理信息数据经纪商Factual，其平台上已累积横跨200多个国家的超过１亿个地理位置信息，数据更新频次达每月240万次，数据访问频次达每月90亿次。\\n\\n2.欧盟模式：深化数据空间战略，加快布局一体化数据开发利用基础设施\\n\\n欧盟历来重视数据保护，尤其对个人数据的保护。通过制定严格的法律法规，欧盟在全球数据治理中的话语权显著提升，且逐渐形成了“严格个人信息保护、建立共同数据空间”等数据要素市场化方式和路径。建立“共同数据空间”，创新数据跨领域共享交换工具。欧盟通过《欧洲数据战略》确立了欧盟范围内数据安全开放共享战略，打造了数据要素共享交换的“共同数据空间”平台，涵盖金融、农业、交通、能源、健康等十个领域，推动欧盟内部数据流通和开发利用。加强个人信息保护，形成完整的数据权益法律法规体系。此外，还相继颁布《通用数据保护条例》《数据法案》《数字服务法案》《非个人数据自由流动条例》《数据治理法案》《关于公平获取和使用数据的统一规则提案》《数字市场法案》等数据保护法规，尝试设定严苛的数据要素场景准入门槛。不断扩大公共数据供应规模，提高公共数据共享程度。为推动公共数据开放利用，欧盟早在2003年就颁布《公共部门信息再利用指令》，随后经两次修订，公共数据开放范围进一步扩大，涵盖金融、气象、法律等多个领域。提出数据利他倡议，鼓励居民自愿贡献数据。为促进数据交易共享，创设数据中介制度，由数据中介服务提供者促成交易双方的数据共享，提升交易主体互信程度。\\n\\n此外，加大资金布局数字基础设施，为数据要素创新应用发展提供技术支撑。投资共同欧洲数据空间和互联云基础设施，围绕公共数据集、数据中心、开放平台、算力中心等基础设施构建强大的数据生态系统。据统计，欧洲在29个国家/地区拥有约217个经过认证的数据中心。\\n\\ncell公司设计的agri\\n\\nnote应用可以整合农林水产省、农林水产消费安全中心发布的农药和肥料数据，助力农业经营者提高农业生产管理效率。\\n\\n此外，日本以“数据银行”为核心建立数据要素交易市场体系，释放个人数据价值。数据银行在与个人签订契约之后，通过个人数据商店对个人数据进行管理，获得个人明确授权后，将数据作为资产提供给数据交易市场进行开发和利用。交易数据大致分为金融数据、医疗健康数据及偏好数据三类，其业务包括数据保管、贩卖、流通在内的基本业务以及个人信用评分业务等。数据银行搭建起个人数据交易和流通的桥梁，促进了数据交易流通市场的发展。\\n\\n4.韩国模式：发挥人工智能等新兴技术作用，促进数据要素开发利用\\n\\n韩国鼓励结合人工智能等新兴技术，促进数据要素在社会各领域应用发展。以健全完善的基础数据底座和数字基础设施共同促进数据要素开发利用。通过建设“数据大坝”、实施“韩国网络基础资源共享计划（K\\n\\nCloud计划）”等措施不断促进公共数据开放利用以激活数据要素市场，激发中小企业的创新活力。大力投入以“DNA”，即D\\n\\n大数据（Data），N\\n\\n5G网络（Network），A\\n\\n人工智能（AI），为代表的数字基础设施建设，保障数据要素安全、高效流通。\\n\\n在医疗保健领域，利用医疗大数据和人工智能技术提供基于数据分析的医疗保健服务，结合元宇宙进行虚拟医疗实践等。在环境、社会和公司治理（Environmental, Social and Governance，ESG）领域，通过ESG门户网站，可查看ESG披露数据和投资统计数据。在工业制造领域，基于物联网、云平台、人工智能、数字孪生等技术实现工厂数据的采集、存储、管理、分析和可视化展现，进而实现智能工厂建设，同时实现供应链的数字化和智能化。在农业领域，努力开发将大数据和人工智能融入农业领域的系统和平台，加快以私营部门为主导的服务发展和农业商业发展模式。'"
      ]
     },
     "execution_count": 17,
     "metadata": {},
     "output_type": "execute_result"
    }
   ],
   "source": [
    "retriever_tool.invoke({\"query\": \"什么是美国模式？\"})"
   ]
  },
  {
   "cell_type": "markdown",
   "metadata": {},
   "source": [
    "### 构造 Agent"
   ]
  },
  {
   "cell_type": "code",
   "execution_count": 21,
   "metadata": {},
   "outputs": [],
   "source": [
    "from langgraph.prebuilt import chat_agent_executor\n",
    "agent_executor = chat_agent_executor.create_tool_calling_executor(llm, tools)"
   ]
  },
  {
   "cell_type": "code",
   "execution_count": 24,
   "metadata": {},
   "outputs": [
    {
     "name": "stdout",
     "output_type": "stream",
     "text": [
      "{'agent': {'messages': [AIMessage(content='美国模式通常指的是在经济、政治、社会和文化领域中，美国特有的发展模式和实践方式。这个模式强调个人主义、自由市场经济、民主政治和法治等价值观。由于这个问题较为宽泛，我需要调用搜索引擎来获取更详细的信息。<|assistant|>搜索引擎检索\\n{\"query\": \"美国模式特点\"}', additional_kwargs={'refusal': None}, response_metadata={'token_usage': {'completion_tokens': 65, 'prompt_tokens': 171, 'total_tokens': 236}, 'model_name': 'glm-4-airx', 'system_fingerprint': None, 'finish_reason': 'stop', 'logprobs': None}, id='run-23b05d77-f94c-40a2-b848-10ed1b8af7f1-0', usage_metadata={'input_tokens': 171, 'output_tokens': 65, 'total_tokens': 236})]}}\n",
      "----\n"
     ]
    }
   ],
   "source": [
    "for chunk in agent_executor.stream({\"messages\":[HumanMessage(content=question)]}):\n",
    "    print(chunk)\n",
    "    print(\"----\")"
   ]
  },
  {
   "cell_type": "markdown",
   "metadata": {},
   "source": [
    "添加 历史聊天记录"
   ]
  },
  {
   "cell_type": "code",
   "execution_count": 31,
   "metadata": {},
   "outputs": [],
   "source": [
    "# langgraph 内置了持久性，无需 ChatMessageHistory\n",
    "from langgraph.checkpoint.sqlite import SqliteSaver\n",
    "with SqliteSaver.from_conn_string(\":memory:\") as memory:\n",
    "    agent_executor = chat_agent_executor.create_tool_calling_executor(llm, tools, checkpointer=memory)"
   ]
  },
  {
   "cell_type": "code",
   "execution_count": 32,
   "metadata": {},
   "outputs": [
    {
     "name": "stdout",
     "output_type": "stream",
     "text": [
      "{'agent': {'messages': [AIMessage(content='Hello, Bob! Nice to meet you. How can I help you today?', additional_kwargs={'refusal': None}, response_metadata={'token_usage': {'completion_tokens': 18, 'prompt_tokens': 172, 'total_tokens': 190}, 'model_name': 'glm-4-airx', 'system_fingerprint': None, 'finish_reason': 'stop', 'logprobs': None}, id='run-2d9da416-a22d-4d3c-b32c-36bf5f4b84ed-0', usage_metadata={'input_tokens': 172, 'output_tokens': 18, 'total_tokens': 190})]}}\n",
      "----\n"
     ]
    }
   ],
   "source": [
    "config = {\"configurable\": {\"thread_id\": \"abc123\"}}\n",
    "for chunk in agent_executor.stream(\n",
    "    {\"messages\": [HumanMessage(content=\"Hi! I'm bob\")]}, config=config\n",
    "):\n",
    "    print(chunk)\n",
    "    print(\"----\")"
   ]
  },
  {
   "cell_type": "code",
   "execution_count": 33,
   "metadata": {},
   "outputs": [
    {
     "name": "stdout",
     "output_type": "stream",
     "text": [
      "{'agent': {'messages': [AIMessage(content='这个问题涉及到一个较为宏观的概念，我需要使用搜索引擎来获取相关信息。<|assistant|>搜索引擎检索\\n{\"query\": \"欧洲模式是什么\"}', additional_kwargs={'refusal': None}, response_metadata={'token_usage': {'completion_tokens': 29, 'prompt_tokens': 196, 'total_tokens': 225}, 'model_name': 'glm-4-airx', 'system_fingerprint': None, 'finish_reason': 'stop', 'logprobs': None}, id='run-ca78e331-d355-4fa3-9a49-ff131b8d171d-0', usage_metadata={'input_tokens': 196, 'output_tokens': 29, 'total_tokens': 225})]}}\n",
      "----\n"
     ]
    }
   ],
   "source": [
    "temp_question = \"什么是欧洲模式？\"\n",
    "config = {\"configurable\": {\"thread_id\": \"abc123\"}}\n",
    "for chunk in agent_executor.stream(\n",
    "    {\"messages\": [HumanMessage(content=temp_question)]}, config=config\n",
    "):\n",
    "    print(chunk)\n",
    "    print(\"----\")"
   ]
  }
 ],
 "metadata": {
  "kernelspec": {
   "display_name": "langchain_env",
   "language": "python",
   "name": "python3"
  },
  "language_info": {
   "codemirror_mode": {
    "name": "ipython",
    "version": 3
   },
   "file_extension": ".py",
   "mimetype": "text/x-python",
   "name": "python",
   "nbconvert_exporter": "python",
   "pygments_lexer": "ipython3",
   "version": "3.10.0"
  }
 },
 "nbformat": 4,
 "nbformat_minor": 2
}
