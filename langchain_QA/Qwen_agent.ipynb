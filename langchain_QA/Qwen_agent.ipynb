{
 "cells": [
  {
   "cell_type": "markdown",
   "metadata": {},
   "source": [
    "# Langchain Agent\n",
    "\n",
    "[官方教程](http://www.aidoczh.com/langchain/v0.2/docs/tutorials/agents/#%E4%BD%BF%E7%94%A8%E8%AF%AD%E8%A8%80%E6%A8%A1%E5%9E%8B)\n",
    "\n",
    "\n",
    "## 1. 自定义工具\n",
    "\n",
    "- 增加一个搜索引擎 DuckDuckGO"
   ]
  },
  {
   "cell_type": "code",
   "execution_count": 1,
   "metadata": {},
   "outputs": [
    {
     "data": {
      "text/plain": [
       "'?广州塔位于广州城市新中轴线与珠江景观轴交汇处，建筑总高度600米，是中国第一、世界第三的旅游观光塔。广州塔集都市观光、高空游乐、时尚餐饮、婚庆会展、购物休闲等多功能于一体，致力打造世界一流水平的旅游景区。 广州新地标来了_腾讯新闻. 又一座百米高塔!. 广州新地标来了. 选址：拟建设于番禺区南村镇大镇岗山顶气象塔. 海拔高度：335.25米（塔身主体高度 ... 摩天轮的高度都有460米了，那承载摩天轮的广州塔该有多高呢？ 广州塔位于广州市海珠区，与珠江新城、花城广场和海心沙岛隔江相望。广州塔的塔身主体高454米，再加上天线桅杆的146米，总高度达到了600米，是我国第一高塔。 ... ?广州塔位于广州城市新中轴线与珠江景观轴交汇处，建筑总高度600米，是中国第一、世界第三的旅游观光塔。广州塔集都市观光、高空游乐、时尚餐饮、婚庆会展、购物休闲等多功能于一体，致力打造世界一流水平的旅游景区。 广州塔建筑总高度600米，其中主塔体高450米，天线桅杆高150米，以中国第一、世界第三观光塔的地位，向世人展示腾飞广州、挑战自我、面向世界的视野和气魄。 ... 作为\"羊城新八景\"之一，广州塔肩负着传承广州2000多年历史文化底蕴、传扬广州国际化大都市 ...'"
      ]
     },
     "execution_count": 1,
     "metadata": {},
     "output_type": "execute_result"
    }
   ],
   "source": [
    "from langchain_community.tools.ddg_search import DuckDuckGoSearchRun\n",
    "\n",
    "search = DuckDuckGoSearchRun(max_results=2)\n",
    "\n",
    "search.invoke(\"广州塔多高？\")"
   ]
  },
  {
   "cell_type": "markdown",
   "metadata": {},
   "source": [
    "- 召回器(retriever)"
   ]
  },
  {
   "cell_type": "code",
   "execution_count": 2,
   "metadata": {},
   "outputs": [
    {
     "name": "stderr",
     "output_type": "stream",
     "text": [
      "/home/yhchen/anaconda3/envs/langchain_env/lib/python3.10/site-packages/sentence_transformers/cross_encoder/CrossEncoder.py:11: TqdmWarning: IProgress not found. Please update jupyter and ipywidgets. See https://ipywidgets.readthedocs.io/en/stable/user_install.html\n",
      "  from tqdm.autonotebook import tqdm, trange\n"
     ]
    }
   ],
   "source": [
    "from langchain_community.document_loaders import DirectoryLoader\n",
    "from langchain_community.vectorstores import Chroma\n",
    "from langchain_community.embeddings import HuggingFaceBgeEmbeddings\n",
    "from langchain_text_splitters import RecursiveCharacterTextSplitter\n",
    "\n",
    "data_path = \"./data\"\n",
    "loader = DirectoryLoader(data_path, glob=\"tencent2.txt\")\n",
    "docs = loader.load()\n",
    "documents = RecursiveCharacterTextSplitter(chunk_size=500, chunk_overlap=100).split_documents(docs)\n",
    "\n",
    "embed_model_path = '/home/yhchen/huggingface_model/BAAI/bge-m3'\n",
    "embeddings = HuggingFaceBgeEmbeddings(model_name=embed_model_path)\n",
    "\n",
    "vectordb = Chroma.from_documents(documents, embeddings, collection_name=\"tencent2\")\n",
    "\n",
    "retriever = vectordb.as_retriever()\n",
    "result = retriever.invoke(\"美国模式中，政府数据开放战略如何具体推动数据市场的发展？\")"
   ]
  },
  {
   "cell_type": "code",
   "execution_count": 3,
   "metadata": {},
   "outputs": [
    {
     "data": {
      "text/plain": [
       "[Document(metadata={'source': 'data/tencent2.txt'}, page_content='美国在数据市场构建方面一直处于全球领先位置，率先提出“政府数据开放战略”，以数据驱动政府决策治理能力提升为牵引，大力推动各政府部门探索符合自身特色的数据开发利用场景，改善政府管理数据方式、提高服务社会效能。当前，美国建立了“政府引导、企业参与、市场运作”的数据应用市场，数据要素应用场景发展十分丰富，涵盖消费、农业、医疗、教育、政府管理等多个领域。例如，政府治理领域，美国总务管理局在政府所属基础设施中安装物联网传感器，由美国国家航空航天局利用人工智能技术分析卫星收集的数据，实现智慧建筑管理。Follow My'),\n",
       " Document(metadata={'source': 'data/tencent2.txt'}, page_content='指令》，随后经两次修订，公共数据开放范围进一步扩大，涵盖金融、气象、法律等多个领域。提出数据利他倡议，鼓励居民自愿贡献数据。为促进数据交易共享，创设数据中介制度，由数据中介服务提供者促成交易双方的数据共享，提升交易主体互信程度。'),\n",
       " Document(metadata={'source': 'data/tencent2.txt'}, page_content='公共数据、基础设施与人工智能：数据市场发展的三个驱动力 | 数据要素行业洞察（四）\\n\\n王星 腾讯研究院资深专家\\n\\n根据《数据要素赋能新质生产力》研究报告、中国国际经济交流中心“数据要素推动数字经济高质量发展”专家座谈会发言内容等整理。\\n\\n二十届三中全会从数据基础设施建设、数据生产关系调整、数据宏观治理优化等维度介绍了数据要素市场的发展导向和政策布局。回顾和总结国内外的发展经验，对于我们准确认识数据要素的发展规律，特别是探索数据要素如何进入社会化大生产、如何安全可控的释放乘数效应价值具有重要借鉴。\\n\\n“数据二十条”发布近两年来，在政策支持和市场主体的积极参与下，国内数据要素市场呈现出多层次发展和技术驱动的显著特征。对比国外数据市场发展规律，可以看到，以公共数据开放共享为牵引、数据基础设施建设为支撑、人工智能为驱动越来越成为数据要素市场发展的产业共识和重要模式。\\n\\n一、国外四种典型的数据市场发展模式\\n\\n1.美国模式：推动政府数据开发利用，鼓励市场主体开展数据应用创新'),\n",
       " Document(metadata={'source': 'data/tencent2.txt'}, page_content='3.日本模式：倡导可信数据自由流动，高度重视公共数据集建设\\n\\n在数据市场建设中，日本倡导“政府指导、民间主导”的发展模式，加快社会数字化转型，推进数据跨境流通。倡导可信数据自由流动，推进数据跨境流通，推动日本成为全球重要数据流通中心。日本在国际上倡导可信数据自由流动，即在严格保护个人信息、网络安全和知识产权的基础上，推动工业、健康等领域非个人、匿名、有用信息的自由流动。2019\\u2006年\\u20062\\u2006月，日本与欧盟达成《欧盟日本数据共享协议》，这一对等充分性协议创造了全球最大的数据自由流通区域，极大地促进了日本大数据和人工智能产业的快速发展，吸引大量海外IT巨头与日本开展数据交换。日本数据中心市场规模快速增长，以东京都市圈为例，数据中心建设集聚，已成为Meta和谷歌等美国IT巨头实现数据流动的中转站。太平洋海底光缆铺设投资旺盛，预计经由日本的数据通信将更趋活跃。')]"
      ]
     },
     "execution_count": 3,
     "metadata": {},
     "output_type": "execute_result"
    }
   ],
   "source": [
    "result"
   ]
  },
  {
   "cell_type": "markdown",
   "metadata": {},
   "source": [
    "将 召回器(retriever) 转换为工具：agent能够使用的形式"
   ]
  },
  {
   "cell_type": "code",
   "execution_count": 3,
   "metadata": {},
   "outputs": [],
   "source": [
    "from langchain.tools.retriever import create_retriever_tool\n",
    "\n",
    "retriever_tool = create_retriever_tool(\n",
    "    retriever, \n",
    "    name=\"tencent2_search\",\n",
    "    description=\"search for info about tencent2 data\"\n",
    "    )"
   ]
  },
  {
   "cell_type": "markdown",
   "metadata": {},
   "source": [
    "将之前的 `search` 和 `retriever_tool` 打包到一个工具列表"
   ]
  },
  {
   "cell_type": "code",
   "execution_count": 4,
   "metadata": {},
   "outputs": [],
   "source": [
    "tools = [search, retriever_tool]"
   ]
  },
  {
   "cell_type": "markdown",
   "metadata": {},
   "source": [
    "## 2. LLM服务"
   ]
  },
  {
   "cell_type": "code",
   "execution_count": 7,
   "metadata": {},
   "outputs": [],
   "source": [
    "# from langchain_openai import ChatOpenAI\n",
    "# llm = ChatOpenAI(\n",
    "#     temperature=0.95,\n",
    "#     model=\"glm-4-airx\",\n",
    "#     openai_api_key=\"\",    # 加入 API-KEY\n",
    "#     openai_api_base=\"https://open.bigmodel.cn/api/paas/v4/\"\n",
    "# )"
   ]
  },
  {
   "cell_type": "code",
   "execution_count": 5,
   "metadata": {},
   "outputs": [
    {
     "name": "stderr",
     "output_type": "stream",
     "text": [
      "/home/yhchen/anaconda3/envs/langchain_env/lib/python3.10/site-packages/langchain_core/_api/deprecation.py:141: LangChainDeprecationWarning: The class `OpenAI` was deprecated in LangChain 0.0.10 and will be removed in 0.3.0. An updated version of the class exists in the langchain-openai package and should be used instead. To use it run `pip install -U langchain-openai` and import as `from langchain_openai import OpenAI`.\n",
      "  warn_deprecated(\n"
     ]
    }
   ],
   "source": [
    "from langchain.agents import load_tools, initialize_agent, AgentType\n",
    "from langchain.llms import OpenAI\n",
    "\n",
    "llm = OpenAI(\n",
    "    base_url = 'http://localhost:8000/v1',\n",
    "    api_key = 'token-qwen2',\n",
    "    model = 'Qwen2'\n",
    ")"
   ]
  },
  {
   "cell_type": "code",
   "execution_count": 6,
   "metadata": {},
   "outputs": [],
   "source": [
    "from langchain.agents import AgentExecutor, create_structured_chat_agent\n",
    "from langchain import hub\n",
    "import os\n",
    "\n",
    "os.environ[\"LANGCHAIN_API_KEY\"] = ''\n",
    "\n",
    "prompt = hub.pull(\"hwchase17/structured-chat-agent\")\n",
    "print(prompt)\n",
    "\n",
    "agent = create_structured_chat_agent(llm=llm, tools=tools, prompt=prompt)"
   ]
  },
  {
   "cell_type": "markdown",
   "metadata": {},
   "source": [
    "### （额外地）添加 memory 功能\n",
    "\n",
    "**添加如下代码：**\n",
    "\n",
    "```python\n",
    "# 添加 memory\n",
    "from langchain.memory import ConversationBufferMemory\n",
    "memory = ConversationBufferMemory(memory_key=\"chat_history\", return_messages=True, output_key=\"output\") # ouput_key 无所谓\n",
    "```\n",
    "\n",
    "<br>\n",
    "<br>\n",
    "\n",
    "\n",
    "并将 `agent_executor` 修改为：\n",
    "```python\n",
    "agent_executor = AgentExecutor(agent=agent, tools=tools, memory=memory, verbose=True, handle_parsing_errors=True)\n",
    "```\n",
    "\n",
    "或者\n",
    "\n",
    "```python\n",
    "agent_executor = AgentExecutor.from_agent_and_tools(agent=agent, tools=tools, memory=memory, verbose=True, handle_parsing_errors=True)\n",
    "```"
   ]
  },
  {
   "cell_type": "code",
   "execution_count": 14,
   "metadata": {},
   "outputs": [
    {
     "name": "stdout",
     "output_type": "stream",
     "text": [
      "\n",
      "\n",
      "\u001b[1m> Entering new AgentExecutor chain...\u001b[0m\n",
      "\u001b[32;1m\u001b[1;3m \n",
      "Thought: I can answer the question by using the DuckDuckGo search tool.\n",
      "Action:\n",
      "```\n",
      "{\n",
      "  \"action\": \"duckduckgo_search\",\n",
      "  \"action_input\": \"巴黎奥运男子100米游泳冠军是谁？\"\n",
      "}\n",
      "```\u001b[0m\u001b[36;1m\u001b[1;3m北京时间8月1日凌晨，巴黎奥运会男子100米自由泳决赛，潘展乐游出46秒40，打破世界纪录的同时赢得冠军。这是中国游泳队本届奥运会的首枚金牌，也是中国选手第一次在男子100米自由泳项目上获得奥运冠军。表达欲 赛后的潘展乐，表达欲出人意料的 ... 当日，在巴黎奥运会游泳项目男子100米自由泳决赛中，中国选手潘展乐以46秒40的成绩夺冠并打破世界纪录。 7月31日，潘展乐在比赛后庆祝夺冠。 新华社记者 夏一方 摄 央视网消息：北京时间8月1日，2024年巴黎奥运会游泳项目男子100米自由泳决赛，中国选手潘展乐以46秒40的成绩打破世界纪录夺得金牌，这是中国队在本届奥运会上的第9金，也是中国游泳队在本届奥运会上的首枚金牌。相关视频： 在北京时间8月1日凌晨结束的巴黎奥运会男子100米自由泳决赛中，潘展乐以46秒40的成绩帮助中国游泳队夺得本届奥运会首枚金牌。同时，这一成绩大幅提高了此前自己保持的世界纪录! 在赛后接受采访时，潘展乐说：\"一雪前耻! 当地时间7月31日，巴黎奥运会男子100米自由泳决赛，潘展乐以46秒40的成绩打破世界纪录夺得金牌。 这是中国游泳运动员首次登上该项目奥运最高领奖台。\u001b[0m\u001b[32;1m\u001b[1;3m \n",
      "Action:\n",
      "```\n",
      "{\n",
      "  \"action\": \"Final Answer\",\n",
      "  \"action_input\": \"巴黎奥运男子100米游泳冠军是潘展乐\"\n",
      "}\n",
      "``` \u001b[0m\n",
      "\n",
      "\u001b[1m> Finished chain.\u001b[0m\n"
     ]
    },
    {
     "data": {
      "text/plain": [
       "{'input': '巴黎奥运男子100米游泳冠军是谁？', 'output': '巴黎奥运男子100米游泳冠军是潘展乐'}"
      ]
     },
     "execution_count": 14,
     "metadata": {},
     "output_type": "execute_result"
    }
   ],
   "source": [
    "agent_executor = AgentExecutor(agent=agent, tools=tools, verbose=True, handle_parsing_errors=True, max_iterations=3)\n",
    "agent_executor.invoke({\"input\": \"巴黎奥运男子100米游泳冠军是谁？\"})"
   ]
  },
  {
   "cell_type": "code",
   "execution_count": null,
   "metadata": {},
   "outputs": [],
   "source": [
    "?PromptTemplate # 查看该方法所在目录"
   ]
  },
  {
   "cell_type": "markdown",
   "metadata": {},
   "source": [
    "## 自定义Prompt模板实现\n",
    "\n",
    "可能是由于模型性能的原因（Qwen2-1.5B-Instruct），这个过程导致 agent 有时候会出现问题，回答不上问题，重复几次即可"
   ]
  },
  {
   "cell_type": "code",
   "execution_count": 7,
   "metadata": {},
   "outputs": [],
   "source": [
    "from langchain_core.prompts import ChatPromptTemplate, MessagesPlaceholder\n",
    "\n",
    "system = '''Respond to the human as helpfully and accurately as possible. You have access to the following tools:\n",
    "\n",
    "{tools}\n",
    "\n",
    "Use a json blob to specify a tool by providing an action key (tool name) and an action_input key (tool input).\n",
    "\n",
    "Valid \"action\" values: \"Final Answer\" or {tool_names}\n",
    "\n",
    "Provide only ONE action per $JSON_BLOB, as shown:\n",
    "\n",
    "```\n",
    "{{\n",
    "    \"action\": $TOOL_NAME,\n",
    "    \"action_input\": $INPUT\n",
    "}}\n",
    "```\n",
    "\n",
    "Follow this format:\n",
    "\n",
    "Question: input question to answer\n",
    "Thought: consider previous and subsequent steps\n",
    "Action:\n",
    "```\n",
    "$JSON_BLOB\n",
    "```\n",
    "Observation: action result\n",
    "... (repeat Thought/Action/Observation N times)\n",
    "Thought: I know what to respond\n",
    "Action:\n",
    "```\n",
    "{{\n",
    "    \"action\": \"Final Answer\",\n",
    "    \"action_input\": \"Final response to human\"\n",
    "}}\n",
    "\n",
    "Begin! Reminder to ALWAYS respond with a valid json blob of a single action. Use tools if necessary. Respond directly if appropriate. Format is Action:```$JSON_BLOB```then Observation'''\n",
    "\n",
    "human = '''{input}\n",
    "\n",
    "{agent_scratchpad}\n",
    "\n",
    "(reminder to respond in a JSON blob no matter what)'''\n",
    "\n",
    "prompt = ChatPromptTemplate.from_messages(\n",
    "    [\n",
    "        (\"system\", system),\n",
    "        MessagesPlaceholder(\"chat_history\", optional=True),\n",
    "        (\"human\", human),\n",
    "    ]\n",
    ")"
   ]
  },
  {
   "cell_type": "code",
   "execution_count": 8,
   "metadata": {},
   "outputs": [],
   "source": [
    "agent = create_structured_chat_agent(llm=llm, tools=tools, prompt=prompt)"
   ]
  },
  {
   "cell_type": "code",
   "execution_count": 11,
   "metadata": {},
   "outputs": [
    {
     "name": "stdout",
     "output_type": "stream",
     "text": [
      "\n",
      "\n",
      "\u001b[1m> Entering new AgentExecutor chain...\u001b[0m\n",
      "\u001b[32;1m\u001b[1;3m Think: previous searches have included dafault settings for duckduckgo_search and tencent2_search. These searches should provide relevant information about the 2024 Paris Olympics men's 100m swimming champion.\n",
      "Action:\n",
      "```json\n",
      "{\n",
      "    \"action\": \"duckduckgo_search\",\n",
      "    \"action_input\": {\n",
      "        \"query\": \"2024 Paris Olympics men's 100m swimming champion\"\n",
      "    }\n",
      "}\n",
      "```\u001b[0m\u001b[36;1m\u001b[1;3mThe Men's 100m Freestyle was held on 31/07/2024 at Paris La Defense Arena. Zhanle Pan (CHN) claimed Gold with a new World Record time of 46.40 seconds, Kyle Chalmers (AUS) took Silver, and David Popovici (ROU) completed the podium. Pan followed up his 100-meter freestyle win at the World Championships with the sole world record broken in Paris and a gold medal. The 19-year-old Chinese swimmer cleared the field in a race that ... The U.S. sprinter won the 100 at the Paris Olympics. Lyles crossed the finish line with a gold-medal winning time of 9.79 in a photo finish to win track and field's marquee sprint event. Jamaica ... Item 1 of 2 Paris 2024 Olympics - Swimming - Men's 100m Backstroke Victory Ceremony - Paris La Defense Arena, Nanterre, France - July 29, 2024. ... Twice world champion Xu led for most of the race ... 19-year-old Pan started off his Paris campaign on night 1 with a stellar split of 46.92 as lead-off on the Chinese men's 4x100m free relay which ultimately finished 4th. He then dipped in the ...\u001b[0m\u001b[32;1m\u001b[1;3m \n",
      "Action: \n",
      "```\n",
      "{\n",
      "    \"action\": \"Final Answer\",\n",
      "    \"action_input\": \"Zhanle Pan was the 2024 Paris Olympics Men's 100m Swimming Champion. He won the gold medal with a new World Record time of 46.40 seconds.\"\n",
      "}\n",
      "\u001b[0m\n",
      "\n",
      "\u001b[1m> Finished chain.\u001b[0m\n"
     ]
    },
    {
     "data": {
      "text/plain": [
       "{'input': '巴黎奥运男子100米游泳冠军是谁？',\n",
       " 'output': \"Zhanle Pan was the 2024 Paris Olympics Men's 100m Swimming Champion. He won the gold medal with a new World Record time of 46.40 seconds.\"}"
      ]
     },
     "execution_count": 11,
     "metadata": {},
     "output_type": "execute_result"
    }
   ],
   "source": [
    "agent_executor = AgentExecutor(agent=agent, tools=tools, verbose=True, handle_parsing_errors=True, max_iterations=5)\n",
    "agent_executor.invoke({\"input\": \"巴黎奥运男子100米游泳冠军是谁？\"})"
   ]
  }
 ],
 "metadata": {
  "kernelspec": {
   "display_name": "langchain_env",
   "language": "python",
   "name": "python3"
  },
  "language_info": {
   "codemirror_mode": {
    "name": "ipython",
    "version": 3
   },
   "file_extension": ".py",
   "mimetype": "text/x-python",
   "name": "python",
   "nbconvert_exporter": "python",
   "pygments_lexer": "ipython3",
   "version": "3.10.0"
  }
 },
 "nbformat": 4,
 "nbformat_minor": 2
}
