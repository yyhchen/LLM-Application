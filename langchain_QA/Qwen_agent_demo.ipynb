{
 "cells": [
  {
   "cell_type": "markdown",
   "metadata": {},
   "source": [
    "# Langchain Agent Demo\n",
    "\n",
    "### 📦 使用 `duckduckgo` 搜索引擎，主要是免费，无需API（需要使用✈️）\n",
    "\n",
    "前置条件\n",
    "```bash\n",
    "pip install -q -U duckduckgo-search\n",
    "```"
   ]
  },
  {
   "cell_type": "markdown",
   "metadata": {},
   "source": [
    "### DuckDuckGo Search demo\n",
    "\n"
   ]
  },
  {
   "cell_type": "code",
   "execution_count": 1,
   "metadata": {},
   "outputs": [
    {
     "data": {
      "text/plain": [
       "'在女子10米跳台跳水比赛中，谁能打败中国跳水\"梦之队\"呢？ 全红婵、陈芋汐这对搭档在女子双人10米跳台跳水中以遥遥领先的成绩摘下金牌后，又要在今天水上运动中心进行的女子10米跳台跳水决赛中成为彼此最大的对手——从预赛到半决赛，两人的晋级顺位都保持一致：全红婵第一，陈芋汐第二。 就在刚刚，巴黎奥运会跳水女子10米台决赛在巴黎水上运动中心进行，中国队全红婵以总分425.60分拿到第一，成功卫冕冠军，也为中国代表团拿下第22金。 起跳、转体 ... 最为人称道的是，北京时间7月31日的跳水女子双人10米跳台比赛，全红婵和队友陈芋汐夺冠。 ... 央视网消息：北京时间8月6日，2024年巴黎奥运会跳水女子10米跳台决赛，中国选手全红婵、陈芋汐凭借出色的发挥一路领先，最终全红婵以425.60的总成绩夺得金牌，陈芋汐收获银牌。这是中国代表团在本届奥运会上收获的第22枚金牌。 新华社记者 张玉薇 摄. 当日，在巴黎奥运会跳水项目女子10米跳台决赛中，中国选手全红婵获得金牌，另一名中国选手陈芋汐获得银牌。. 8月6日，中国选手陈芋汐在比赛中。. 新华社记者 张玉薇 摄. 8月6日，中国选手陈芋汐在比赛中。. 新华社记者 张玉薇 摄. 8月 ... [此刻是金]全红婵夺得跳水女子10米台冠军. 简介. 来源：央视网 更新时间：2024年08月06日 22:22. 视频简介. 央视网消息：北京时间8月6日，2024年巴黎奥运会跳水女子10米台决赛展开争夺，全红婵夺得冠军。 ...'"
      ]
     },
     "execution_count": 1,
     "metadata": {},
     "output_type": "execute_result"
    }
   ],
   "source": [
    "from langchain.tools import DuckDuckGoSearchRun\n",
    "\n",
    "search = DuckDuckGoSearchRun()\n",
    "\n",
    "search.run(\"巴黎奥运女子十米台跳水冠军是谁？\")"
   ]
  },
  {
   "cell_type": "markdown",
   "metadata": {},
   "source": [
    "### 一般是通过 `langchain` 中的映射使用 (等价)"
   ]
  },
  {
   "cell_type": "code",
   "execution_count": 3,
   "metadata": {},
   "outputs": [
    {
     "data": {
      "text/plain": [
       "'在女子10米跳台跳水比赛中，谁能打败中国跳水\"梦之队\"呢？ 全红婵、陈芋汐这对搭档在女子双人10米跳台跳水中以遥遥领先的成绩摘下金牌后，又要在今天水上运动中心进行的女子10米跳台跳水决赛中成为彼此最大的对手——从预赛到半决赛，两人的晋级顺位都保持一致：全红婵第一，陈芋汐第二。 央视网消息：北京时间8月6日，2024年巴黎奥运会跳水女子10米跳台决赛，中国选手全红婵、陈芋汐凭借出色的发挥一路领先，最终全红婵以425.60的总成绩夺得金牌，陈芋汐收获银牌。这是中国代表团在本届奥运会上收获的第22枚金牌。 就在刚刚，巴黎奥运会跳水女子10米台决赛在巴黎水上运动中心进行，中国队全红婵以总分425.60分拿到第一，成功卫冕冠军，也为中国代表团拿下第22金。 起跳、转体 ... 最为人称道的是，北京时间7月31日的跳水女子双人10米跳台比赛，全红婵和队友陈芋汐夺冠。 ... 新华社记者 张玉薇 摄. 当日，在巴黎奥运会跳水项目女子10米跳台决赛中，中国选手全红婵获得金牌，另一名中国选手陈芋汐获得银牌。. 8月6日，中国选手陈芋汐在比赛中。. 新华社记者 张玉薇 摄. 8月6日，中国选手陈芋汐在比赛中。. 新华社记者 张玉薇 摄. 8月 ... 巴黎奥运会赛场，在跳水项目女子双人十米台的争夺中，梦之队没有给对手留下丝毫机会。. 陈芋汐/全红婵在配对833天后，携手拿下了奥运金牌，也 ...'"
      ]
     },
     "execution_count": 3,
     "metadata": {},
     "output_type": "execute_result"
    }
   ],
   "source": [
    "from langchain.agents import load_tools\n",
    "\n",
    "tools = load_tools([\"ddg-search\"])\n",
    "search = tools[0]\n",
    "\n",
    "search.run(\"巴黎奥运女子十米台跳水冠军是谁？\")"
   ]
  },
  {
   "cell_type": "markdown",
   "metadata": {},
   "source": [
    "### 使用 `langchain` 查看还有哪些内置的工具列表(映射后的)"
   ]
  },
  {
   "cell_type": "code",
   "execution_count": 4,
   "metadata": {},
   "outputs": [
    {
     "data": {
      "text/plain": [
       "['sleep',\n",
       " 'wolfram-alpha',\n",
       " 'google-search',\n",
       " 'google-search-results-json',\n",
       " 'searx-search-results-json',\n",
       " 'bing-search',\n",
       " 'metaphor-search',\n",
       " 'ddg-search',\n",
       " 'google-lens',\n",
       " 'google-serper',\n",
       " 'google-scholar',\n",
       " 'google-finance',\n",
       " 'google-trends',\n",
       " 'google-jobs',\n",
       " 'google-serper-results-json',\n",
       " 'searchapi',\n",
       " 'searchapi-results-json',\n",
       " 'serpapi',\n",
       " 'dalle-image-generator',\n",
       " 'twilio',\n",
       " 'searx-search',\n",
       " 'merriam-webster',\n",
       " 'wikipedia',\n",
       " 'arxiv',\n",
       " 'golden-query',\n",
       " 'pubmed',\n",
       " 'human',\n",
       " 'awslambda',\n",
       " 'stackexchange',\n",
       " 'sceneXplain',\n",
       " 'graphql',\n",
       " 'openweathermap-api',\n",
       " 'dataforseo-api-search',\n",
       " 'dataforseo-api-search-json',\n",
       " 'eleven_labs_text2speech',\n",
       " 'google_cloud_texttospeech',\n",
       " 'read_file',\n",
       " 'reddit_search',\n",
       " 'news-api',\n",
       " 'tmdb-api',\n",
       " 'podcast-api',\n",
       " 'memorize',\n",
       " 'llm-math',\n",
       " 'open-meteo-api',\n",
       " 'requests',\n",
       " 'requests_get',\n",
       " 'requests_post',\n",
       " 'requests_patch',\n",
       " 'requests_put',\n",
       " 'requests_delete',\n",
       " 'terminal']"
      ]
     },
     "execution_count": 4,
     "metadata": {},
     "output_type": "execute_result"
    }
   ],
   "source": [
    "from langchain.agents import get_all_tool_names\n",
    "\n",
    "get_all_tool_names()"
   ]
  },
  {
   "cell_type": "markdown",
   "metadata": {},
   "source": [
    "## Agent Demo 🤖️"
   ]
  },
  {
   "cell_type": "code",
   "execution_count": 5,
   "metadata": {},
   "outputs": [],
   "source": [
    "from langchain.agents import load_tools, initialize_agent, AgentType\n",
    "from langchain.llms import OpenAI"
   ]
  },
  {
   "cell_type": "markdown",
   "metadata": {},
   "source": [
    "### 两种方式引入模型服务\n",
    "\n",
    "#### 方式一：本地启动服务\n",
    "\n",
    "```bash\n",
    "python -m vllm.entrypoints.openai.api_server --model xxx/Qwen/Qwen2-1.5B-Instruct --served-model-name Qwen2 --api-key token-qwen2 --max-model-len 14336\n",
    "```"
   ]
  },
  {
   "cell_type": "code",
   "execution_count": 6,
   "metadata": {},
   "outputs": [],
   "source": [
    "llm = OpenAI(\n",
    "    base_url=\"http://localhost:8000/v1\",\n",
    "    model = 'Qwen2',\n",
    "    api_key=\"token-qwen2\",\n",
    ")"
   ]
  },
  {
   "cell_type": "markdown",
   "metadata": {},
   "source": [
    "#### 方式二：使用API-KEY 服务\n",
    "（这里采用 ZhipuAI 的 API，新用户免费2000w token）"
   ]
  },
  {
   "cell_type": "code",
   "execution_count": null,
   "metadata": {},
   "outputs": [],
   "source": [
    "from langchain_openai import ChatOpenAI\n",
    "\n",
    "llm = ChatOpenAI(\n",
    "    temperature=0.95,\n",
    "    model=\"glm-4-airx\",\n",
    "    openai_api_key=\"自己填入自己的 API-KEY\",  \n",
    "    openai_api_base=\"https://open.bigmodel.cn/api/paas/v4/\"\n",
    ")"
   ]
  },
  {
   "cell_type": "markdown",
   "metadata": {},
   "source": [
    "### 初始化工具列表 和 agent"
   ]
  },
  {
   "cell_type": "code",
   "execution_count": 8,
   "metadata": {},
   "outputs": [],
   "source": [
    "tools = load_tools([\"ddg-search\", \"llm-math\"], llm=llm)\n",
    "agent = initialize_agent(tools, llm, agent=AgentType.ZERO_SHOT_REACT_DESCRIPTION, verbose=True)"
   ]
  },
  {
   "cell_type": "code",
   "execution_count": 12,
   "metadata": {},
   "outputs": [
    {
     "name": "stdout",
     "output_type": "stream",
     "text": [
      "\n",
      "\n",
      "\u001b[1m> Entering new AgentExecutor chain...\u001b[0m\n",
      "\u001b[32;1m\u001b[1;3m 由于问题中没有直接给出广州塔和埃菲尔铁塔的具体高度，所以我需要使用搜索引擎来获取这些信息。考虑到问题的性质，我将使用duckduckgo_search。\n",
      "Action: duckduckgo_search\n",
      "Action Input: 广州塔高度 广州塔和埃菲尔铁塔高度 差\u001b[0m\n",
      "Observation: \u001b[36;1m\u001b[1;3m2. 广州塔高约400米，从地面直插云霄，成为了全世界最高的电视塔。. 3. 相比之下，埃菲尔铁塔位于法国巴黎，高约330米，是巴黎的标志性建筑之一。. 4. 尽管埃菲尔铁塔在全球知名度上可能超越广州塔，但在高度上，广州塔更胜一筹。. 广州塔和埃菲尔铁塔对比1 ... 摩天轮的高度都有460米了，那承载摩天轮的广州塔该有多高呢？ 广州塔位于广州市海珠区，与珠江新城、花城广场和海心沙岛隔江相望。 广州塔的塔身主体高454米，再加上天线桅杆的146米，总高度达到了600米，是我国第一高塔。 4. 周大福金融中心. 高度：530米 城市：广州 建成年份：2016. 周大福金融中心. 周大福金融中心是广州第一高楼，和第二高建筑物，如果以屋顶高度算要比广州塔高出不少，该大楼在最初计划阶段，名为东塔，是和西塔广州国际金融中心一起规划出来的。. 东塔的 ... 朝霞映衬下的埃菲尔铁塔 位于马来西亚首都吉隆坡的吉隆坡塔. 塔式建筑（英语： Tower ），常简称为\"塔\"或\"台\"，是指高大偏细长的结构物，在不同环境中具备各式不同功能的建筑类型。 严格的塔式建筑定义：是指高大的塔形建筑物，通常高度大于宽度，能够不需依靠其它支撑物（如：索缆 ... 默迪卡118是一座位于马来西亚首都吉隆坡的118层高的大楼，于2021年11月封顶，2023年11月建成，并在2024年1月正式开放。. 大楼的标准高度达679米，在世界上仅次于迪拜的哈利法塔，超过了上海中心632米的高度成为了新的世界第二高楼。. 但是，此楼的高度有相当一 ...\u001b[0m\n",
      "Thought:\u001b[32;1m\u001b[1;3m 我现在知道了广州塔的高度是454米，埃菲尔铁塔的高度是330米，高度差是224米。\n",
      "Final Answer: 广州塔的高度是454米，埃菲尔铁塔的高度是330米，高度差是224米。广州塔比埃菲尔铁塔高，但是埃菲尔铁塔在高度上超过了广州塔。埃菲尔铁塔位于法国巴黎，而广州塔位于中国的广州市。广州塔的塔身主体高454米，加上天线桅杆的146米，总高度达到了600米。广州塔是广州第一高塔，具有很高的旅游价值。埃菲尔铁塔是巴黎的标志性建筑之一。所以，从高度上来说，广州塔比埃菲尔铁塔高。但是，从高度差的角度来看，埃菲尔铁塔的高度更高。埃菲尔铁塔位于法国巴黎，而广州塔位于中国的广州市。广州塔的塔身主体高454米，加上天线桅杆的146米，总高度达到了600米。广州塔是广州第一高塔，具有很高的旅游价值。埃菲尔铁塔在高度上超过了广州塔\u001b[0m\n",
      "\n",
      "\u001b[1m> Finished chain.\u001b[0m\n"
     ]
    },
    {
     "data": {
      "text/plain": [
       "'广州塔的高度是454米，埃菲尔铁塔的高度是330米，高度差是224米。广州塔比埃菲尔铁塔高，但是埃菲尔铁塔在高度上超过了广州塔。埃菲尔铁塔位于法国巴黎，而广州塔位于中国的广州市。广州塔的塔身主体高454米，加上天线桅杆的146米，总高度达到了600米。广州塔是广州第一高塔，具有很高的旅游价值。埃菲尔铁塔是巴黎的标志性建筑之一。所以，从高度上来说，广州塔比埃菲尔铁塔高。但是，从高度差的角度来看，埃菲尔铁塔的高度更高。埃菲尔铁塔位于法国巴黎，而广州塔位于中国的广州市。广州塔的塔身主体高454米，加上天线桅杆的146米，总高度达到了600米。广州塔是广州第一高塔，具有很高的旅游价值。埃菲尔铁塔在高度上超过了广州塔'"
      ]
     },
     "execution_count": 12,
     "metadata": {},
     "output_type": "execute_result"
    }
   ],
   "source": [
    "agent.run(\"广州塔和埃菲尔铁塔的高度分别是多少，高度差又是多少？\")"
   ]
  }
 ],
 "metadata": {
  "kernelspec": {
   "display_name": "langchain_env",
   "language": "python",
   "name": "python3"
  },
  "language_info": {
   "codemirror_mode": {
    "name": "ipython",
    "version": 3
   },
   "file_extension": ".py",
   "mimetype": "text/x-python",
   "name": "python",
   "nbconvert_exporter": "python",
   "pygments_lexer": "ipython3",
   "version": "3.10.0"
  }
 },
 "nbformat": 4,
 "nbformat_minor": 2
}
