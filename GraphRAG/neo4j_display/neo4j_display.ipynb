{
 "cells": [
  {
   "cell_type": "markdown",
   "metadata": {},
   "source": [
    "# 将 GraphRAG 生成的数据 导入 neo4j 可视化"
   ]
  },
  {
   "cell_type": "markdown",
   "metadata": {},
   "source": [
    "### 加载数据"
   ]
  },
  {
   "cell_type": "code",
   "execution_count": 5,
   "metadata": {},
   "outputs": [],
   "source": [
    "import pandas as pd\n",
    "\n",
    "data_path = \"/home/yhchen/CodeLibrary/LLM-Application/GraphRAG/data/farewellmyconcubine\"\n",
    "\n",
    "communities = pd.read_parquet(f\"{data_path}/create_final_communities.parquet\")\n",
    "community_reports = pd.read_parquet(f\"{data_path}/create_final_community_reports.parquet\")\n",
    "entities = pd.read_parquet(f\"{data_path}/create_final_entities.parquet\")\n",
    "text_units = pd.read_parquet(f\"{data_path}/create_final_text_units.parquet\")\n",
    "relationships = pd.read_parquet(f\"{data_path}/create_final_relationships.parquet\")"
   ]
  },
  {
   "cell_type": "code",
   "execution_count": 6,
   "metadata": {},
   "outputs": [
    {
     "data": {
      "text/html": [
       "<div>\n",
       "<style scoped>\n",
       "    .dataframe tbody tr th:only-of-type {\n",
       "        vertical-align: middle;\n",
       "    }\n",
       "\n",
       "    .dataframe tbody tr th {\n",
       "        vertical-align: top;\n",
       "    }\n",
       "\n",
       "    .dataframe thead th {\n",
       "        text-align: right;\n",
       "    }\n",
       "</style>\n",
       "<table border=\"1\" class=\"dataframe\">\n",
       "  <thead>\n",
       "    <tr style=\"text-align: right;\">\n",
       "      <th></th>\n",
       "      <th>id</th>\n",
       "      <th>title</th>\n",
       "      <th>level</th>\n",
       "      <th>raw_community</th>\n",
       "      <th>relationship_ids</th>\n",
       "      <th>text_unit_ids</th>\n",
       "    </tr>\n",
       "  </thead>\n",
       "  <tbody>\n",
       "    <tr>\n",
       "      <th>0</th>\n",
       "      <td>8</td>\n",
       "      <td>Community 8</td>\n",
       "      <td>0</td>\n",
       "      <td>8</td>\n",
       "      <td>[d4467d7e8a404c45a5d3477b35cdd6df, 807b66ed814...</td>\n",
       "      <td>[1d652ff93acafdb2868576cf4f723cb6,25a79abe1571...</td>\n",
       "    </tr>\n",
       "    <tr>\n",
       "      <th>1</th>\n",
       "      <td>3</td>\n",
       "      <td>Community 3</td>\n",
       "      <td>0</td>\n",
       "      <td>3</td>\n",
       "      <td>[823112b882f54270a10fc0495ddc3370, 8475c141252...</td>\n",
       "      <td>[1fbaeff0f46119ca7fe5d7e2396a990d,5936a809b59a...</td>\n",
       "    </tr>\n",
       "  </tbody>\n",
       "</table>\n",
       "</div>"
      ],
      "text/plain": [
       "  id        title  level raw_community  \\\n",
       "0  8  Community 8      0             8   \n",
       "1  3  Community 3      0             3   \n",
       "\n",
       "                                    relationship_ids  \\\n",
       "0  [d4467d7e8a404c45a5d3477b35cdd6df, 807b66ed814...   \n",
       "1  [823112b882f54270a10fc0495ddc3370, 8475c141252...   \n",
       "\n",
       "                                       text_unit_ids  \n",
       "0  [1d652ff93acafdb2868576cf4f723cb6,25a79abe1571...  \n",
       "1  [1fbaeff0f46119ca7fe5d7e2396a990d,5936a809b59a...  "
      ]
     },
     "execution_count": 6,
     "metadata": {},
     "output_type": "execute_result"
    }
   ],
   "source": [
    "communities.head(2)"
   ]
  },
  {
   "cell_type": "code",
   "execution_count": 7,
   "metadata": {},
   "outputs": [
    {
     "data": {
      "text/html": [
       "<div>\n",
       "<style scoped>\n",
       "    .dataframe tbody tr th:only-of-type {\n",
       "        vertical-align: middle;\n",
       "    }\n",
       "\n",
       "    .dataframe tbody tr th {\n",
       "        vertical-align: top;\n",
       "    }\n",
       "\n",
       "    .dataframe thead th {\n",
       "        text-align: right;\n",
       "    }\n",
       "</style>\n",
       "<table border=\"1\" class=\"dataframe\">\n",
       "  <thead>\n",
       "    <tr style=\"text-align: right;\">\n",
       "      <th></th>\n",
       "      <th>community</th>\n",
       "      <th>full_content</th>\n",
       "      <th>level</th>\n",
       "      <th>rank</th>\n",
       "      <th>title</th>\n",
       "      <th>rank_explanation</th>\n",
       "      <th>summary</th>\n",
       "      <th>findings</th>\n",
       "      <th>full_content_json</th>\n",
       "      <th>id</th>\n",
       "    </tr>\n",
       "  </thead>\n",
       "  <tbody>\n",
       "    <tr>\n",
       "      <th>0</th>\n",
       "      <td>206</td>\n",
       "      <td># Cultural Revolution and Red Guards\\n\\nThe co...</td>\n",
       "      <td>4</td>\n",
       "      <td>7.5</td>\n",
       "      <td>Cultural Revolution and Red Guards</td>\n",
       "      <td>The impact severity rating is high due to the ...</td>\n",
       "      <td>The community revolves around the Red Guards, ...</td>\n",
       "      <td>[{'explanation': 'The Red Guards were involved...</td>\n",
       "      <td>{\\n    \"title\": \"Cultural Revolution and Red G...</td>\n",
       "      <td>6b0c4695-178f-4bc6-9c80-0ce7155dc21b</td>\n",
       "    </tr>\n",
       "    <tr>\n",
       "      <th>1</th>\n",
       "      <td>205</td>\n",
       "      <td># 小楼与程蝶衣的京剧世界\\n\\n文本描述了一个围绕小楼和程蝶衣的京剧世界，其中小楼与程蝶衣...</td>\n",
       "      <td>4</td>\n",
       "      <td>6.5</td>\n",
       "      <td>小楼与程蝶衣的京剧世界</td>\n",
       "      <td>小楼与程蝶衣的京剧世界在文本中占据重要地位，涉及多个角色和事件，但整体上并未展现出对社会或文...</td>\n",
       "      <td>文本描述了一个围绕小楼和程蝶衣的京剧世界，其中小楼与程蝶衣、菊仙等角色有着密切的联系，共同参...</td>\n",
       "      <td>[{'explanation': '文本中多次提到小楼与程蝶衣在京剧表演中的合作，两人共同演...</td>\n",
       "      <td>{\\n    \"title\": \"小楼与程蝶衣的京剧世界\",\\n    \"summary\":...</td>\n",
       "      <td>a0284f19-60db-47a5-b764-a241bbe99271</td>\n",
       "    </tr>\n",
       "  </tbody>\n",
       "</table>\n",
       "</div>"
      ],
      "text/plain": [
       "  community                                       full_content  level  rank  \\\n",
       "0       206  # Cultural Revolution and Red Guards\\n\\nThe co...      4   7.5   \n",
       "1       205  # 小楼与程蝶衣的京剧世界\\n\\n文本描述了一个围绕小楼和程蝶衣的京剧世界，其中小楼与程蝶衣...      4   6.5   \n",
       "\n",
       "                                title  \\\n",
       "0  Cultural Revolution and Red Guards   \n",
       "1                         小楼与程蝶衣的京剧世界   \n",
       "\n",
       "                                    rank_explanation  \\\n",
       "0  The impact severity rating is high due to the ...   \n",
       "1  小楼与程蝶衣的京剧世界在文本中占据重要地位，涉及多个角色和事件，但整体上并未展现出对社会或文...   \n",
       "\n",
       "                                             summary  \\\n",
       "0  The community revolves around the Red Guards, ...   \n",
       "1  文本描述了一个围绕小楼和程蝶衣的京剧世界，其中小楼与程蝶衣、菊仙等角色有着密切的联系，共同参...   \n",
       "\n",
       "                                            findings  \\\n",
       "0  [{'explanation': 'The Red Guards were involved...   \n",
       "1  [{'explanation': '文本中多次提到小楼与程蝶衣在京剧表演中的合作，两人共同演...   \n",
       "\n",
       "                                   full_content_json  \\\n",
       "0  {\\n    \"title\": \"Cultural Revolution and Red G...   \n",
       "1  {\\n    \"title\": \"小楼与程蝶衣的京剧世界\",\\n    \"summary\":...   \n",
       "\n",
       "                                     id  \n",
       "0  6b0c4695-178f-4bc6-9c80-0ce7155dc21b  \n",
       "1  a0284f19-60db-47a5-b764-a241bbe99271  "
      ]
     },
     "execution_count": 7,
     "metadata": {},
     "output_type": "execute_result"
    }
   ],
   "source": [
    "community_reports.head(2)"
   ]
  },
  {
   "cell_type": "code",
   "execution_count": 8,
   "metadata": {},
   "outputs": [
    {
     "data": {
      "text/html": [
       "<div>\n",
       "<style scoped>\n",
       "    .dataframe tbody tr th:only-of-type {\n",
       "        vertical-align: middle;\n",
       "    }\n",
       "\n",
       "    .dataframe tbody tr th {\n",
       "        vertical-align: top;\n",
       "    }\n",
       "\n",
       "    .dataframe thead th {\n",
       "        text-align: right;\n",
       "    }\n",
       "</style>\n",
       "<table border=\"1\" class=\"dataframe\">\n",
       "  <thead>\n",
       "    <tr style=\"text-align: right;\">\n",
       "      <th></th>\n",
       "      <th>id</th>\n",
       "      <th>name</th>\n",
       "      <th>type</th>\n",
       "      <th>description</th>\n",
       "      <th>human_readable_id</th>\n",
       "      <th>graph_embedding</th>\n",
       "      <th>text_unit_ids</th>\n",
       "      <th>description_embedding</th>\n",
       "    </tr>\n",
       "  </thead>\n",
       "  <tbody>\n",
       "    <tr>\n",
       "      <th>0</th>\n",
       "      <td>b45241d70f0e43fca764df95b2b81f77</td>\n",
       "      <td>霸王别姬</td>\n",
       "      <td>ORGANIZATION</td>\n",
       "      <td>The entity \"\\u9738\\u738b\\u522b\\u59ec\" refers t...</td>\n",
       "      <td>0</td>\n",
       "      <td>None</td>\n",
       "      <td>[1d652ff93acafdb2868576cf4f723cb6, 25a79abe157...</td>\n",
       "      <td>[1.0037897349126279e-15, -1.1491861276425238e-...</td>\n",
       "    </tr>\n",
       "    <tr>\n",
       "      <th>1</th>\n",
       "      <td>4119fd06010c494caa07f439b333f4c5</td>\n",
       "      <td>李碧华</td>\n",
       "      <td>PERSON</td>\n",
       "      <td>李碧华是一位著名的中国作家，以其创作的文学作品《霸王别姬》而广为人知。</td>\n",
       "      <td>1</td>\n",
       "      <td>None</td>\n",
       "      <td>[70752709f4ff8105981635123d9d3dd7, a7e3f833a8c...</td>\n",
       "      <td>[6.768991590255298e-31, -3.2895517229234936e-1...</td>\n",
       "    </tr>\n",
       "  </tbody>\n",
       "</table>\n",
       "</div>"
      ],
      "text/plain": [
       "                                 id  name          type  \\\n",
       "0  b45241d70f0e43fca764df95b2b81f77  霸王别姬  ORGANIZATION   \n",
       "1  4119fd06010c494caa07f439b333f4c5   李碧华        PERSON   \n",
       "\n",
       "                                         description  human_readable_id  \\\n",
       "0  The entity \"\\u9738\\u738b\\u522b\\u59ec\" refers t...                  0   \n",
       "1                李碧华是一位著名的中国作家，以其创作的文学作品《霸王别姬》而广为人知。                  1   \n",
       "\n",
       "  graph_embedding                                      text_unit_ids  \\\n",
       "0            None  [1d652ff93acafdb2868576cf4f723cb6, 25a79abe157...   \n",
       "1            None  [70752709f4ff8105981635123d9d3dd7, a7e3f833a8c...   \n",
       "\n",
       "                               description_embedding  \n",
       "0  [1.0037897349126279e-15, -1.1491861276425238e-...  \n",
       "1  [6.768991590255298e-31, -3.2895517229234936e-1...  "
      ]
     },
     "execution_count": 8,
     "metadata": {},
     "output_type": "execute_result"
    }
   ],
   "source": [
    "entities.head(2)"
   ]
  },
  {
   "cell_type": "code",
   "execution_count": 9,
   "metadata": {},
   "outputs": [
    {
     "data": {
      "text/html": [
       "<div>\n",
       "<style scoped>\n",
       "    .dataframe tbody tr th:only-of-type {\n",
       "        vertical-align: middle;\n",
       "    }\n",
       "\n",
       "    .dataframe tbody tr th {\n",
       "        vertical-align: top;\n",
       "    }\n",
       "\n",
       "    .dataframe thead th {\n",
       "        text-align: right;\n",
       "    }\n",
       "</style>\n",
       "<table border=\"1\" class=\"dataframe\">\n",
       "  <thead>\n",
       "    <tr style=\"text-align: right;\">\n",
       "      <th></th>\n",
       "      <th>id</th>\n",
       "      <th>text</th>\n",
       "      <th>n_tokens</th>\n",
       "      <th>document_ids</th>\n",
       "      <th>entity_ids</th>\n",
       "      <th>relationship_ids</th>\n",
       "    </tr>\n",
       "  </thead>\n",
       "  <tbody>\n",
       "    <tr>\n",
       "      <th>0</th>\n",
       "      <td>a7e3f833a8c75a77de5ef1ce9abca9df</td>\n",
       "      <td>\\n　霸王别姬\\n\\n　　李碧华 著\\n\\n　第一章 暑去寒来春复秋 \\n\\n　　婊子无情，...</td>\n",
       "      <td>1200</td>\n",
       "      <td>[d338ec6941b6216661320e79f45032df]</td>\n",
       "      <td>[b45241d70f0e43fca764df95b2b81f77, 4119fd06010...</td>\n",
       "      <td>[d4467d7e8a404c45a5d3477b35cdd6df, 807b66ed814...</td>\n",
       "    </tr>\n",
       "    <tr>\n",
       "      <th>1</th>\n",
       "      <td>ede2a6d531d678f4d8327d4706cfc54a</td>\n",
       "      <td>。桥西有鸟市，对过有各种小食摊子，还有摞地抠饼的卖艺人。热热闹闹，兴兴旺旺。\\n　　小叫花爱...</td>\n",
       "      <td>1200</td>\n",
       "      <td>[d338ec6941b6216661320e79f45032df]</td>\n",
       "      <td>[9646481f66ce4fd2b08c2eddda42fc82, 254770028d7...</td>\n",
       "      <td>[da245f24b8a041f6ac96ef214862cabf, f2db8d8c674...</td>\n",
       "    </tr>\n",
       "  </tbody>\n",
       "</table>\n",
       "</div>"
      ],
      "text/plain": [
       "                                 id  \\\n",
       "0  a7e3f833a8c75a77de5ef1ce9abca9df   \n",
       "1  ede2a6d531d678f4d8327d4706cfc54a   \n",
       "\n",
       "                                                text  n_tokens  \\\n",
       "0  \\n　霸王别姬\\n\\n　　李碧华 著\\n\\n　第一章 暑去寒来春复秋 \\n\\n　　婊子无情，...      1200   \n",
       "1  。桥西有鸟市，对过有各种小食摊子，还有摞地抠饼的卖艺人。热热闹闹，兴兴旺旺。\\n　　小叫花爱...      1200   \n",
       "\n",
       "                         document_ids  \\\n",
       "0  [d338ec6941b6216661320e79f45032df]   \n",
       "1  [d338ec6941b6216661320e79f45032df]   \n",
       "\n",
       "                                          entity_ids  \\\n",
       "0  [b45241d70f0e43fca764df95b2b81f77, 4119fd06010...   \n",
       "1  [9646481f66ce4fd2b08c2eddda42fc82, 254770028d7...   \n",
       "\n",
       "                                    relationship_ids  \n",
       "0  [d4467d7e8a404c45a5d3477b35cdd6df, 807b66ed814...  \n",
       "1  [da245f24b8a041f6ac96ef214862cabf, f2db8d8c674...  "
      ]
     },
     "execution_count": 9,
     "metadata": {},
     "output_type": "execute_result"
    }
   ],
   "source": [
    "text_units.head(2)"
   ]
  },
  {
   "cell_type": "code",
   "execution_count": 10,
   "metadata": {},
   "outputs": [
    {
     "data": {
      "text/html": [
       "<div>\n",
       "<style scoped>\n",
       "    .dataframe tbody tr th:only-of-type {\n",
       "        vertical-align: middle;\n",
       "    }\n",
       "\n",
       "    .dataframe tbody tr th {\n",
       "        vertical-align: top;\n",
       "    }\n",
       "\n",
       "    .dataframe thead th {\n",
       "        text-align: right;\n",
       "    }\n",
       "</style>\n",
       "<table border=\"1\" class=\"dataframe\">\n",
       "  <thead>\n",
       "    <tr style=\"text-align: right;\">\n",
       "      <th></th>\n",
       "      <th>source</th>\n",
       "      <th>target</th>\n",
       "      <th>weight</th>\n",
       "      <th>description</th>\n",
       "      <th>text_unit_ids</th>\n",
       "      <th>id</th>\n",
       "      <th>human_readable_id</th>\n",
       "      <th>source_degree</th>\n",
       "      <th>target_degree</th>\n",
       "      <th>rank</th>\n",
       "    </tr>\n",
       "  </thead>\n",
       "  <tbody>\n",
       "    <tr>\n",
       "      <th>0</th>\n",
       "      <td>霸王别姬</td>\n",
       "      <td>李碧华</td>\n",
       "      <td>2.0</td>\n",
       "      <td>《霸王别姬》是李碧华所著的一部小说。</td>\n",
       "      <td>[70752709f4ff8105981635123d9d3dd7, a7e3f833a8c...</td>\n",
       "      <td>d4467d7e8a404c45a5d3477b35cdd6df</td>\n",
       "      <td>0</td>\n",
       "      <td>22</td>\n",
       "      <td>1</td>\n",
       "      <td>23</td>\n",
       "    </tr>\n",
       "    <tr>\n",
       "      <th>1</th>\n",
       "      <td>霸王别姬</td>\n",
       "      <td>民国十八年</td>\n",
       "      <td>1.0</td>\n",
       "      <td>《霸王别姬》的故事发生在民国十八年（1929年）</td>\n",
       "      <td>[a7e3f833a8c75a77de5ef1ce9abca9df]</td>\n",
       "      <td>807b66ed814e4b25a499ccb80afd56c5</td>\n",
       "      <td>1</td>\n",
       "      <td>22</td>\n",
       "      <td>1</td>\n",
       "      <td>23</td>\n",
       "    </tr>\n",
       "  </tbody>\n",
       "</table>\n",
       "</div>"
      ],
      "text/plain": [
       "  source target  weight               description  \\\n",
       "0   霸王别姬    李碧华     2.0        《霸王别姬》是李碧华所著的一部小说。   \n",
       "1   霸王别姬  民国十八年     1.0  《霸王别姬》的故事发生在民国十八年（1929年）   \n",
       "\n",
       "                                       text_unit_ids  \\\n",
       "0  [70752709f4ff8105981635123d9d3dd7, a7e3f833a8c...   \n",
       "1                 [a7e3f833a8c75a77de5ef1ce9abca9df]   \n",
       "\n",
       "                                 id human_readable_id  source_degree  \\\n",
       "0  d4467d7e8a404c45a5d3477b35cdd6df                 0             22   \n",
       "1  807b66ed814e4b25a499ccb80afd56c5                 1             22   \n",
       "\n",
       "   target_degree  rank  \n",
       "0              1    23  \n",
       "1              1    23  "
      ]
     },
     "execution_count": 10,
     "metadata": {},
     "output_type": "execute_result"
    }
   ],
   "source": [
    "relationships.head(2)"
   ]
  },
  {
   "cell_type": "markdown",
   "metadata": {},
   "source": [
    "### 创建 neo4j 连接"
   ]
  },
  {
   "cell_type": "code",
   "execution_count": 11,
   "metadata": {},
   "outputs": [],
   "source": [
    "from neo4j import GraphDatabase"
   ]
  },
  {
   "cell_type": "code",
   "execution_count": 12,
   "metadata": {},
   "outputs": [],
   "source": [
    "NEO4J_URI = \"bolt://localhost:7687\"\n",
    "NEO4J_USERNAME = \"neo4j\"\n",
    "NEO4J_PASSWORD = \"12345678\" \n",
    "NEO4J_DATABASE = \"neo4j\"\n",
    "driver = GraphDatabase.driver(NEO4J_URI, auth=(NEO4J_USERNAME, NEO4J_PASSWORD))"
   ]
  },
  {
   "cell_type": "code",
   "execution_count": 13,
   "metadata": {},
   "outputs": [],
   "source": [
    "# 封装 neo4j数据查询 函数\n",
    "def import_data(cypher, df, batch_size=1000):\n",
    "\n",
    "    for i in range(0,len(df), batch_size):\n",
    "        batch = df.iloc[i: min(i+batch_size, len(df))]\n",
    "        result = driver.execute_query(\"UNWIND $rows AS value \" + cypher, \n",
    "                                      rows=batch.to_dict('records'),\n",
    "                                      database_=NEO4J_DATABASE)\n",
    "        print(result.summary.counters)\n",
    "    return "
   ]
  },
  {
   "cell_type": "markdown",
   "metadata": {},
   "source": [
    "### 导入 GraphRAG 生成的知识图谱到 neo4j"
   ]
  },
  {
   "cell_type": "code",
   "execution_count": 14,
   "metadata": {},
   "outputs": [
    {
     "name": "stdout",
     "output_type": "stream",
     "text": [
      "{'_contains_updates': True, 'labels_added': 232, 'nodes_created': 232, 'properties_set': 696}\n"
     ]
    }
   ],
   "source": [
    "#导入text units\n",
    "cypher_text_units = \"\"\"\n",
    "MERGE (c:__Chunk__ {id:value.id})\n",
    "SET c += value {.text, .n_tokens}\n",
    "WITH c, value\n",
    "UNWIND value.document_ids AS document\n",
    "MATCH (d:__Document__ {id:document})\n",
    "MERGE (c)-[:PART_OF]->(d)\n",
    "\"\"\"\n",
    "\n",
    "import_data(cypher_text_units, text_units)"
   ]
  },
  {
   "cell_type": "code",
   "execution_count": 15,
   "metadata": {},
   "outputs": [
    {
     "name": "stdout",
     "output_type": "stream",
     "text": [
      "{'_contains_updates': True, 'labels_added': 1000, 'relationships_created': 2643, 'nodes_created': 1000, 'properties_set': 4000}\n",
      "{'_contains_updates': True, 'labels_added': 1000, 'relationships_created': 1591, 'nodes_created': 1000, 'properties_set': 4000}\n",
      "{'_contains_updates': True, 'labels_added': 1000, 'relationships_created': 1026, 'nodes_created': 1000, 'properties_set': 4000}\n",
      "{'_contains_updates': True, 'labels_added': 36, 'relationships_created': 36, 'nodes_created': 36, 'properties_set': 144}\n"
     ]
    }
   ],
   "source": [
    "#加载entities\n",
    "cypher_entities= \"\"\"\n",
    "MERGE (e:__Entity__ {id:value.id})\n",
    "SET e += value {.human_readable_id, .description, name:replace(value.name,'\"','')}\n",
    "WITH e, value\n",
    "CALL db.create.setNodeVectorProperty(e, \"description_embedding\", value.description_embedding)\n",
    "CALL apoc.create.addLabels(e, case when coalesce(value.type,\"\") = \"\" then [] else [apoc.text.upperCamelCase(replace(value.type,'\"',''))] end) yield node\n",
    "UNWIND value.text_unit_ids AS text_unit\n",
    "MATCH (c:__Chunk__ {id:text_unit})\n",
    "MERGE (c)-[:HAS_ENTITY]->(e)\n",
    "\"\"\"\n",
    "\n",
    "import_data(cypher_entities, entities)"
   ]
  },
  {
   "cell_type": "code",
   "execution_count": 16,
   "metadata": {},
   "outputs": [
    {
     "name": "stdout",
     "output_type": "stream",
     "text": [
      "{'_contains_updates': True, 'relationships_created': 1000, 'properties_set': 6000}\n",
      "{'_contains_updates': True, 'relationships_created': 960, 'properties_set': 5760}\n"
     ]
    }
   ],
   "source": [
    "#导入relationships\n",
    "cypher_relationships = \"\"\"\n",
    "    MATCH (source:__Entity__ {name:replace(value.source,'\"','')})\n",
    "    MATCH (target:__Entity__ {name:replace(value.target,'\"','')})\n",
    "    // not necessary to merge on id as there is only one relationship per pair\n",
    "    MERGE (source)-[rel:RELATED {id: value.id}]->(target)\n",
    "    SET rel += value {.rank, .weight, .human_readable_id, .description, .text_unit_ids}\n",
    "    RETURN count(*) as createdRels\n",
    "\"\"\"\n",
    "\n",
    "import_data(cypher_relationships, relationships)"
   ]
  },
  {
   "cell_type": "code",
   "execution_count": 17,
   "metadata": {},
   "outputs": [
    {
     "name": "stdout",
     "output_type": "stream",
     "text": [
      "{'_contains_updates': True, 'labels_added': 207, 'relationships_created': 6243, 'nodes_created': 207, 'properties_set': 621}\n"
     ]
    }
   ],
   "source": [
    "#导入communities\n",
    "cypher_communities = \"\"\"\n",
    "MERGE (c:__Community__ {community:value.id})\n",
    "SET c += value {.level, .title}\n",
    "/*\n",
    "UNWIND value.text_unit_ids as text_unit_id\n",
    "MATCH (t:__Chunk__ {id:text_unit_id})\n",
    "MERGE (c)-[:HAS_CHUNK]->(t)\n",
    "WITH distinct c, value\n",
    "*/\n",
    "WITH *\n",
    "UNWIND value.relationship_ids as rel_id\n",
    "MATCH (start:__Entity__)-[:RELATED {id:rel_id}]->(end:__Entity__)\n",
    "MERGE (start)-[:IN_COMMUNITY]->(c)\n",
    "MERGE (end)-[:IN_COMMUNITY]->(c)\n",
    "RETURn count(distinct c) as createdCommunities\n",
    "\"\"\"\n",
    "\n",
    "import_data(cypher_communities, communities)"
   ]
  },
  {
   "cell_type": "code",
   "execution_count": 18,
   "metadata": {},
   "outputs": [
    {
     "name": "stdout",
     "output_type": "stream",
     "text": [
      "{'_contains_updates': True, 'labels_added': 872, 'relationships_created': 872, 'nodes_created': 872, 'properties_set': 14882}\n"
     ]
    }
   ],
   "source": [
    "#导入community_reports\n",
    "cypher_community_reports = \"\"\"MATCH (c:__Community__ {community: value.community})\n",
    "SET c += value {.level, .title, .rank, .rank_explanation, .full_content, .summary}\n",
    "WITH c, value\n",
    "UNWIND range(0, size(value.findings)-1) AS finding_idx\n",
    "WITH c, value, finding_idx, value.findings[finding_idx] as finding\n",
    "MERGE (c)-[:HAS_FINDING]->(f:Finding {id: finding_idx})\n",
    "SET f += finding\"\"\"\n",
    "import_data(cypher_community_reports, community_reports)"
   ]
  }
 ],
 "metadata": {
  "kernelspec": {
   "display_name": "graphrag_env",
   "language": "python",
   "name": "python3"
  },
  "language_info": {
   "codemirror_mode": {
    "name": "ipython",
    "version": 3
   },
   "file_extension": ".py",
   "mimetype": "text/x-python",
   "name": "python",
   "nbconvert_exporter": "python",
   "pygments_lexer": "ipython3",
   "version": "3.10.0"
  }
 },
 "nbformat": 4,
 "nbformat_minor": 2
}
